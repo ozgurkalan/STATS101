{
 "cells": [
  {
   "cell_type": "markdown",
   "metadata": {},
   "source": [
    "# Essentials\n",
    "<span style=\"color:red\">Statistics and Machine Learning</span>"
   ]
  },
  {
   "cell_type": "markdown",
   "metadata": {
    "ExecuteTime": {
     "end_time": "2020-07-14T07:57:57.577029Z",
     "start_time": "2020-07-14T07:57:57.567374Z"
    }
   },
   "source": [
    "---\n",
    "\n",
    "### my essential awesome start to a new notebook for statistics and machine learning\n",
    "\n",
    "---\n",
    "\n",
    "run this notebook when starting a new one by:\n",
    "    __``%run init.ipynb``__\n",
    "    "
   ]
  },
  {
   "cell_type": "markdown",
   "metadata": {},
   "source": [
    "# ⌦ reset and free memory"
   ]
  },
  {
   "cell_type": "code",
   "execution_count": 1,
   "metadata": {
    "ExecuteTime": {
     "end_time": "2021-12-12T04:15:43.360718Z",
     "start_time": "2021-12-12T04:15:43.229561Z"
    },
    "execution": {
     "iopub.execute_input": "2023-08-13T05:51:28.876652Z",
     "iopub.status.busy": "2023-08-13T05:51:28.876092Z",
     "iopub.status.idle": "2023-08-13T05:51:29.047861Z",
     "shell.execute_reply": "2023-08-13T05:51:29.046097Z",
     "shell.execute_reply.started": "2023-08-13T05:51:28.876622Z"
    }
   },
   "outputs": [],
   "source": [
    "# force to reset state\n",
    "%reset -f "
   ]
  },
  {
   "cell_type": "markdown",
   "metadata": {},
   "source": [
    "## ❗️ ignore warnings"
   ]
  },
  {
   "cell_type": "code",
   "execution_count": 2,
   "metadata": {
    "execution": {
     "iopub.execute_input": "2023-08-13T05:51:29.062348Z",
     "iopub.status.busy": "2023-08-13T05:51:29.061862Z",
     "iopub.status.idle": "2023-08-13T05:51:29.080714Z",
     "shell.execute_reply": "2023-08-13T05:51:29.075249Z",
     "shell.execute_reply.started": "2023-08-13T05:51:29.062315Z"
    }
   },
   "outputs": [],
   "source": [
    "import warnings\n",
    "warnings.filterwarnings('ignore')"
   ]
  },
  {
   "cell_type": "markdown",
   "metadata": {},
   "source": [
    "# 💻 System"
   ]
  },
  {
   "cell_type": "code",
   "execution_count": 3,
   "metadata": {
    "ExecuteTime": {
     "end_time": "2023-07-24T13:47:15.917468Z",
     "start_time": "2023-07-24T13:47:15.904431Z"
    },
    "execution": {
     "iopub.execute_input": "2023-08-13T05:51:29.089629Z",
     "iopub.status.busy": "2023-08-13T05:51:29.088210Z",
     "iopub.status.idle": "2023-08-13T05:51:29.103797Z",
     "shell.execute_reply": "2023-08-13T05:51:29.098311Z",
     "shell.execute_reply.started": "2023-08-13T05:51:29.089592Z"
    }
   },
   "outputs": [],
   "source": [
    "from pathlib import Path\n",
    "import os\n",
    "import sys\n",
    "sys.path.insert(0, \".\")\n",
    "\n",
    "from importlib import reload\n",
    "import re"
   ]
  },
  {
   "cell_type": "markdown",
   "metadata": {},
   "source": [
    "# ♾ Math"
   ]
  },
  {
   "cell_type": "code",
   "execution_count": 4,
   "metadata": {
    "ExecuteTime": {
     "end_time": "2021-12-12T04:15:43.595306Z",
     "start_time": "2021-12-12T04:15:43.588456Z"
    },
    "execution": {
     "iopub.execute_input": "2023-08-13T05:51:29.142823Z",
     "iopub.status.busy": "2023-08-13T05:51:29.142327Z",
     "iopub.status.idle": "2023-08-13T05:51:29.168651Z",
     "shell.execute_reply": "2023-08-13T05:51:29.166139Z",
     "shell.execute_reply.started": "2023-08-13T05:51:29.142789Z"
    }
   },
   "outputs": [],
   "source": [
    "import math"
   ]
  },
  {
   "cell_type": "markdown",
   "metadata": {},
   "source": [
    "# 🧩 Scikit"
   ]
  },
  {
   "cell_type": "code",
   "execution_count": 5,
   "metadata": {
    "ExecuteTime": {
     "end_time": "2021-12-12T04:15:46.050606Z",
     "start_time": "2021-12-12T04:15:43.605960Z"
    },
    "execution": {
     "iopub.execute_input": "2023-08-13T05:51:29.170865Z",
     "iopub.status.busy": "2023-08-13T05:51:29.170274Z",
     "iopub.status.idle": "2023-08-13T05:51:30.586100Z",
     "shell.execute_reply": "2023-08-13T05:51:30.584813Z",
     "shell.execute_reply.started": "2023-08-13T05:51:29.170830Z"
    }
   },
   "outputs": [],
   "source": [
    "import pandas as pd\n",
    "import numpy as np\n",
    "\n",
    "import scipy\n",
    "from scipy import stats"
   ]
  },
  {
   "cell_type": "markdown",
   "metadata": {},
   "source": [
    "## 🐼 Pandas Options"
   ]
  },
  {
   "cell_type": "code",
   "execution_count": 6,
   "metadata": {
    "ExecuteTime": {
     "end_time": "2021-12-12T04:15:46.068484Z",
     "start_time": "2021-12-12T04:15:46.054198Z"
    },
    "execution": {
     "iopub.execute_input": "2023-08-13T05:51:30.612310Z",
     "iopub.status.busy": "2023-08-13T05:51:30.587644Z",
     "iopub.status.idle": "2023-08-13T05:51:30.632713Z",
     "shell.execute_reply": "2023-08-13T05:51:30.629038Z",
     "shell.execute_reply.started": "2023-08-13T05:51:30.612259Z"
    }
   },
   "outputs": [],
   "source": [
    "pd.reset_option(\"^display\") # first reset all display options\n",
    "pd.options.display.width=None # reset limits to table width\n",
    "pd.options.display.min_rows=None # reset min row to allow max row\n",
    "pd.options.display.max_rows=50 # show at least 50 rows\n",
    "pd.options.display.max_columns=999 # show all available columns\n",
    "pd.options.display.max_colwidth=150 # prevent truncate upto 150 points\n",
    "pd.options.display.expand_frame_repr=True # no wrap on tables\n",
    "pd.options.display.float_format=\"{:,.3f}\".format # floating numbers with 2 digit + comma"
   ]
  },
  {
   "cell_type": "markdown",
   "metadata": {},
   "source": [
    "# 📊 Plotting"
   ]
  },
  {
   "cell_type": "code",
   "execution_count": 7,
   "metadata": {
    "ExecuteTime": {
     "end_time": "2021-12-12T04:15:47.016232Z",
     "start_time": "2021-12-12T04:15:46.075241Z"
    },
    "execution": {
     "iopub.execute_input": "2023-08-13T05:51:30.700724Z",
     "iopub.status.busy": "2023-08-13T05:51:30.699366Z",
     "iopub.status.idle": "2023-08-13T05:51:31.467954Z",
     "shell.execute_reply": "2023-08-13T05:51:31.466478Z",
     "shell.execute_reply.started": "2023-08-13T05:51:30.700697Z"
    }
   },
   "outputs": [],
   "source": [
    "import matplotlib.pyplot as plt\n",
    "\n",
    "import seaborn as sns\n",
    "\n",
    "plt.style.use(\"seaborn\")\n",
    "%matplotlib inline"
   ]
  },
  {
   "cell_type": "markdown",
   "metadata": {},
   "source": [
    "# ✨ Ozcore"
   ]
  },
  {
   "cell_type": "code",
   "execution_count": 8,
   "metadata": {
    "ExecuteTime": {
     "end_time": "2023-07-24T13:47:22.955079Z",
     "start_time": "2023-07-24T13:47:19.318437Z"
    },
    "execution": {
     "iopub.execute_input": "2023-08-13T05:51:31.470925Z",
     "iopub.status.busy": "2023-08-13T05:51:31.469750Z",
     "iopub.status.idle": "2023-08-13T05:51:34.899137Z",
     "shell.execute_reply": "2023-08-13T05:51:34.898191Z",
     "shell.execute_reply.started": "2023-08-13T05:51:31.470880Z"
    }
   },
   "outputs": [],
   "source": [
    "# homemade helpers\n",
    "from ozcore import core"
   ]
  },
  {
   "cell_type": "markdown",
   "metadata": {},
   "source": [
    "# 🐦 ibis"
   ]
  },
  {
   "cell_type": "code",
   "execution_count": 9,
   "metadata": {
    "execution": {
     "iopub.execute_input": "2023-08-13T05:51:34.917768Z",
     "iopub.status.busy": "2023-08-13T05:51:34.917175Z",
     "iopub.status.idle": "2023-08-13T05:51:35.758941Z",
     "shell.execute_reply": "2023-08-13T05:51:35.758112Z",
     "shell.execute_reply.started": "2023-08-13T05:51:34.917730Z"
    }
   },
   "outputs": [],
   "source": [
    "import ibis\n",
    "from ibis import _, selectors as s\n",
    "ibis.options.interactive = True\n",
    "ibis.options.sql.default_limit = None\n",
    "\n",
    "# create db for gzipped files in data dir\n",
    "db = ibis.duckdb.connect()\n",
    "for file in list(Path(\"./data\").glob(\"*.gzip\")):\n",
    "    db.read_parquet(source_list=file, table_name=file.stem)"
   ]
  },
  {
   "cell_type": "markdown",
   "metadata": {},
   "source": [
    "# 🌍 Jupyter Display"
   ]
  },
  {
   "cell_type": "code",
   "execution_count": 11,
   "metadata": {
    "ExecuteTime": {
     "end_time": "2021-12-12T04:15:47.192383Z",
     "start_time": "2021-12-12T04:15:47.185355Z"
    },
    "execution": {
     "iopub.execute_input": "2023-08-13T05:51:35.931821Z",
     "iopub.status.busy": "2023-08-13T05:51:35.931096Z",
     "iopub.status.idle": "2023-08-13T05:51:36.010631Z",
     "shell.execute_reply": "2023-08-13T05:51:36.009575Z",
     "shell.execute_reply.started": "2023-08-13T05:51:35.931782Z"
    }
   },
   "outputs": [
    {
     "data": {
      "text/html": [
       "\n",
       "        <style>\n",
       "            div#notebook-container    { width: 97%; }\n",
       "            div#menubar-container     { width: 90%; }\n",
       "            div#maintoolbar-container { width: 90%; }\n",
       "        </style>\n",
       "        "
      ],
      "text/plain": [
       "<IPython.core.display.HTML object>"
      ]
     },
     "metadata": {},
     "output_type": "display_data"
    }
   ],
   "source": [
    "# view, display settings\n",
    "\n",
    "# Jupyter Notebook display options\n",
    "from IPython.display import display, Javascript, Markdown, YouTubeVideo, Image\n",
    "\n",
    "# Ipywidgets\n",
    "import ipywidgets as widgets\n",
    "\n",
    "from ozcore.core.utils.jupyter import Jupyter \n",
    "Jupyter().setup()"
   ]
  },
  {
   "cell_type": "markdown",
   "metadata": {},
   "source": [
    "---"
   ]
  },
  {
   "cell_type": "markdown",
   "metadata": {},
   "source": [
    "# 🟣 Colors"
   ]
  },
  {
   "cell_type": "code",
   "execution_count": 12,
   "metadata": {
    "ExecuteTime": {
     "end_time": "2021-12-12T04:15:47.269487Z",
     "start_time": "2021-12-12T04:15:47.261860Z"
    },
    "execution": {
     "iopub.execute_input": "2023-08-13T05:51:36.016292Z",
     "iopub.status.busy": "2023-08-13T05:51:36.014975Z",
     "iopub.status.idle": "2023-08-13T05:51:36.076939Z",
     "shell.execute_reply": "2023-08-13T05:51:36.075749Z",
     "shell.execute_reply.started": "2023-08-13T05:51:36.016264Z"
    }
   },
   "outputs": [],
   "source": [
    "# some nice colors from http://colorbrewer2.org/\n",
    "# by Allen Downey, Scipy 2017, CompStats\n",
    "COLOR1 = '#7fc97f'\n",
    "COLOR2 = '#beaed4'\n",
    "COLOR3 = '#fdc086'\n",
    "COLOR4 = '#ffff99'\n",
    "COLOR5 = '#386cb0'"
   ]
  },
  {
   "cell_type": "markdown",
   "metadata": {},
   "source": [
    "---"
   ]
  },
  {
   "cell_type": "markdown",
   "metadata": {},
   "source": [
    "# 🎥 YouTube Videos in a grid view"
   ]
  },
  {
   "cell_type": "code",
   "execution_count": 13,
   "metadata": {
    "ExecuteTime": {
     "end_time": "2021-12-12T04:15:47.289681Z",
     "start_time": "2021-12-12T04:15:47.275440Z"
    },
    "execution": {
     "iopub.execute_input": "2023-08-13T05:51:36.081553Z",
     "iopub.status.busy": "2023-08-13T05:51:36.080656Z",
     "iopub.status.idle": "2023-08-13T05:51:36.107743Z",
     "shell.execute_reply": "2023-08-13T05:51:36.106099Z",
     "shell.execute_reply.started": "2023-08-13T05:51:36.081516Z"
    }
   },
   "outputs": [],
   "source": [
    "from ipywidgets import Output, GridspecLayout, HTML\n",
    "\n",
    "def youGrid(*vids):\n",
    "    '''\n",
    "    vids: comma separated arguments as YouTube short codes of videos \n",
    "\n",
    "    short codes of videos are usually after the short link like youtu.be/yaSgoGLXKOg\n",
    "    \n",
    "    returns:\n",
    "        grid view of YouTube() embeded function with two columns having the link also below.\n",
    "    '''\n",
    "    n_vids = len(vids)\n",
    "    n_rows = math.ceil(len(vids)/2)\n",
    "\n",
    "    grid = GridspecLayout(n_rows,2)\n",
    "\n",
    "    row = 0\n",
    "    col = 0\n",
    "    for i, vid in enumerate(vids):\n",
    "        out=Output()\n",
    "        with out:\n",
    "            display(YouTubeVideo(vid),\n",
    "                    HTML(value=f\"<a href=https://youtu.be/{vid} target='_blank'>YouTube: {vid}</a>\")\n",
    "                   )\n",
    "        grid[row,col] = out\n",
    "        if (i+1)%2 == 0: \n",
    "            row+=1\n",
    "            col=0\n",
    "        else:\n",
    "            col+=1\n",
    "\n",
    "    return grid"
   ]
  },
  {
   "cell_type": "markdown",
   "metadata": {},
   "source": [
    "."
   ]
  },
  {
   "cell_type": "markdown",
   "metadata": {},
   "source": [
    "---"
   ]
  },
  {
   "cell_type": "code",
   "execution_count": null,
   "metadata": {},
   "outputs": [],
   "source": []
  }
 ],
 "metadata": {
  "kernelspec": {
   "display_name": "OZ",
   "language": "python",
   "name": "oz"
  },
  "language_info": {
   "codemirror_mode": {
    "name": "ipython",
    "version": 3
   },
   "file_extension": ".py",
   "mimetype": "text/x-python",
   "name": "python",
   "nbconvert_exporter": "python",
   "pygments_lexer": "ipython3",
   "version": "3.10.9"
  }
 },
 "nbformat": 4,
 "nbformat_minor": 4
}
