{
 "cells": [
  {
   "cell_type": "markdown",
   "metadata": {},
   "source": [
    "# Essentials\n",
    "## <span style=\"color:red\">Statistics and Machine Learning</span>"
   ]
  },
  {
   "cell_type": "markdown",
   "metadata": {
    "ExecuteTime": {
     "end_time": "2020-07-14T07:57:57.577029Z",
     "start_time": "2020-07-14T07:57:57.567374Z"
    }
   },
   "source": [
    "---\n",
    "\n",
    "### my essential awesome start to a new notebook for statistics and machine learning\n",
    "\n",
    "---\n",
    "\n",
    "run this notebook when starting a new one by:\n",
    "    __``%run 000-env.ipynb``__\n",
    "    "
   ]
  },
  {
   "cell_type": "markdown",
   "metadata": {},
   "source": [
    "# ⌦ reset and free memory"
   ]
  },
  {
   "cell_type": "code",
   "execution_count": 4,
   "metadata": {
    "ExecuteTime": {
     "end_time": "2021-12-12T04:15:43.360718Z",
     "start_time": "2021-12-12T04:15:43.229561Z"
    }
   },
   "outputs": [],
   "source": [
    "# force to reset state\n",
    "%reset -f "
   ]
  },
  {
   "cell_type": "markdown",
   "metadata": {},
   "source": [
    "# 💻 System"
   ]
  },
  {
   "cell_type": "code",
   "execution_count": 5,
   "metadata": {
    "ExecuteTime": {
     "end_time": "2021-12-12T04:15:43.512259Z",
     "start_time": "2021-12-12T04:15:43.409319Z"
    }
   },
   "outputs": [],
   "source": [
    "from pathlib import Path\n",
    "import os # for dotenv: os.getenv()"
   ]
  },
  {
   "cell_type": "code",
   "execution_count": 6,
   "metadata": {
    "ExecuteTime": {
     "end_time": "2021-12-12T04:15:43.568865Z",
     "start_time": "2021-12-12T04:15:43.561470Z"
    }
   },
   "outputs": [],
   "source": [
    "# Ensure division always returns float with: \n",
    "from __future__ import division"
   ]
  },
  {
   "cell_type": "markdown",
   "metadata": {},
   "source": [
    "# ♾ Math"
   ]
  },
  {
   "cell_type": "code",
   "execution_count": 7,
   "metadata": {
    "ExecuteTime": {
     "end_time": "2021-12-12T04:15:43.595306Z",
     "start_time": "2021-12-12T04:15:43.588456Z"
    }
   },
   "outputs": [],
   "source": [
    "import math"
   ]
  },
  {
   "cell_type": "markdown",
   "metadata": {},
   "source": [
    "# 🧩 Scikit"
   ]
  },
  {
   "cell_type": "code",
   "execution_count": 8,
   "metadata": {
    "ExecuteTime": {
     "end_time": "2021-12-12T04:15:46.050606Z",
     "start_time": "2021-12-12T04:15:43.605960Z"
    }
   },
   "outputs": [],
   "source": [
    "import pandas as pd\n",
    "import numpy as np\n",
    "\n",
    "import scipy\n",
    "from scipy import stats"
   ]
  },
  {
   "cell_type": "markdown",
   "metadata": {},
   "source": [
    "## 🐼 Pandas Options"
   ]
  },
  {
   "cell_type": "code",
   "execution_count": 9,
   "metadata": {
    "ExecuteTime": {
     "end_time": "2021-12-12T04:15:46.068484Z",
     "start_time": "2021-12-12T04:15:46.054198Z"
    }
   },
   "outputs": [],
   "source": [
    "pd.reset_option(\"^display\") # first reset all display options\n",
    "pd.options.display.width=None # reset limits to table width\n",
    "pd.options.display.min_rows=None # reset min row to allow max row\n",
    "pd.options.display.max_rows=50 # show at least 50 rows\n",
    "pd.options.display.max_columns=999 # show all available columns\n",
    "pd.options.display.max_colwidth=150 # prevent truncate upto 150 points\n",
    "pd.options.display.expand_frame_repr=True # no wrap on tables\n",
    "pd.options.display.float_format=\"{:,.3f}\".format # floating numbers with 2 digit + comma"
   ]
  },
  {
   "cell_type": "markdown",
   "metadata": {},
   "source": [
    "# 📊 Plotting"
   ]
  },
  {
   "cell_type": "code",
   "execution_count": 10,
   "metadata": {
    "ExecuteTime": {
     "end_time": "2021-12-12T04:15:47.016232Z",
     "start_time": "2021-12-12T04:15:46.075241Z"
    }
   },
   "outputs": [],
   "source": [
    "import matplotlib.pyplot as plt\n",
    "\n",
    "import seaborn as sns\n",
    "\n",
    "plt.style.use(\"seaborn\")\n",
    "%matplotlib inline"
   ]
  },
  {
   "cell_type": "markdown",
   "metadata": {},
   "source": [
    "# 💽 Datasets"
   ]
  },
  {
   "cell_type": "code",
   "execution_count": 11,
   "metadata": {
    "ExecuteTime": {
     "end_time": "2021-12-12T04:15:47.177166Z",
     "start_time": "2021-12-12T04:15:47.020116Z"
    }
   },
   "outputs": [],
   "source": [
    "from vega_datasets import data as vds\n",
    "from pydataset import data as pydata"
   ]
  },
  {
   "cell_type": "markdown",
   "metadata": {},
   "source": [
    "# 🌍 Jupyter Display"
   ]
  },
  {
   "cell_type": "code",
   "execution_count": 12,
   "metadata": {
    "ExecuteTime": {
     "end_time": "2021-12-12T04:15:47.192383Z",
     "start_time": "2021-12-12T04:15:47.185355Z"
    }
   },
   "outputs": [],
   "source": [
    "# view, display settings\n",
    "\n",
    "# Jupyter Notebook display options\n",
    "from IPython.display import display, Javascript, Markdown, YouTubeVideo, Image\n",
    "\n",
    "# Ipywidgets\n",
    "import ipywidgets as widgets"
   ]
  },
  {
   "cell_type": "code",
   "execution_count": 13,
   "metadata": {
    "ExecuteTime": {
     "end_time": "2021-12-12T04:15:47.225009Z",
     "start_time": "2021-12-12T04:15:47.206636Z"
    }
   },
   "outputs": [
    {
     "data": {
      "application/javascript": [
       "IPython.OutputArea.auto_scroll_threshold = 9999\n"
      ],
      "text/plain": [
       "<IPython.core.display.Javascript object>"
      ]
     },
     "metadata": {},
     "output_type": "display_data"
    }
   ],
   "source": [
    "%%javascript\n",
    "IPython.OutputArea.auto_scroll_threshold = 9999"
   ]
  },
  {
   "cell_type": "markdown",
   "metadata": {},
   "source": [
    "### jupyter Large View"
   ]
  },
  {
   "cell_type": "code",
   "execution_count": 14,
   "metadata": {
    "ExecuteTime": {
     "end_time": "2021-12-12T04:15:47.249035Z",
     "start_time": "2021-12-12T04:15:47.232508Z"
    }
   },
   "outputs": [
    {
     "data": {
      "text/html": [
       "\n",
       "    <style>\n",
       "        div#notebook-container    { width: 97%; }\n",
       "        div#menubar-container     { width: 90%; }\n",
       "        div#maintoolbar-container { width: 90%; }\n",
       "    </style>\n",
       "    "
      ],
      "text/plain": [
       "<IPython.core.display.HTML object>"
      ]
     },
     "metadata": {},
     "output_type": "display_data"
    }
   ],
   "source": [
    "def large_view():\n",
    "    from IPython.display import  HTML\n",
    "    \n",
    "    # displays a larger container width\n",
    "    display(HTML(data=\"\"\"\n",
    "    <style>\n",
    "        div#notebook-container    { width: 97%; }\n",
    "        div#menubar-container     { width: 90%; }\n",
    "        div#maintoolbar-container { width: 90%; }\n",
    "    </style>\n",
    "    \"\"\"))\n",
    "    \n",
    "# run large_view()\n",
    "large_view()"
   ]
  },
  {
   "cell_type": "markdown",
   "metadata": {},
   "source": [
    "---"
   ]
  },
  {
   "cell_type": "markdown",
   "metadata": {},
   "source": [
    "# 🟣 Colors"
   ]
  },
  {
   "cell_type": "code",
   "execution_count": 15,
   "metadata": {
    "ExecuteTime": {
     "end_time": "2021-12-12T04:15:47.269487Z",
     "start_time": "2021-12-12T04:15:47.261860Z"
    }
   },
   "outputs": [],
   "source": [
    "# some nice colors from http://colorbrewer2.org/\n",
    "# by Allen Downey, Scipy 2017, CompStats\n",
    "COLOR1 = '#7fc97f'\n",
    "COLOR2 = '#beaed4'\n",
    "COLOR3 = '#fdc086'\n",
    "COLOR4 = '#ffff99'\n",
    "COLOR5 = '#386cb0'"
   ]
  },
  {
   "cell_type": "markdown",
   "metadata": {},
   "source": [
    "---"
   ]
  },
  {
   "cell_type": "markdown",
   "metadata": {},
   "source": [
    "## YouTube Videos in a grid view"
   ]
  },
  {
   "cell_type": "code",
   "execution_count": 16,
   "metadata": {
    "ExecuteTime": {
     "end_time": "2021-12-12T04:15:47.289681Z",
     "start_time": "2021-12-12T04:15:47.275440Z"
    }
   },
   "outputs": [],
   "source": [
    "from ipywidgets import Output, GridspecLayout, HTML\n",
    "\n",
    "def youGrid(*vids):\n",
    "    '''\n",
    "    vids: comma separated arguments as YouTube short codes of videos \n",
    "\n",
    "    short codes of videos are usually after the short link like youtu.be/yaSgoGLXKOg\n",
    "    \n",
    "    returns:\n",
    "        grid view of YouTube() embeded function with two columns having the link also below.\n",
    "    '''\n",
    "    n_vids = len(vids)\n",
    "    n_rows = math.ceil(len(vids)/2)\n",
    "\n",
    "    grid = GridspecLayout(n_rows,2)\n",
    "\n",
    "    row = 0\n",
    "    col = 0\n",
    "    for i, vid in enumerate(vids):\n",
    "        out=Output()\n",
    "        with out:\n",
    "            display(YouTubeVideo(vid),\n",
    "                    HTML(value=f\"<a href=https://youtu.be/{vid} target='_blank'>YouTube: {vid}</a>\")\n",
    "                   )\n",
    "        grid[row,col] = out\n",
    "        if (i+1)%2 == 0: \n",
    "            row+=1\n",
    "            col=0\n",
    "        else:\n",
    "            col+=1\n",
    "\n",
    "    return grid"
   ]
  },
  {
   "cell_type": "markdown",
   "metadata": {},
   "source": [
    "."
   ]
  },
  {
   "cell_type": "code",
   "execution_count": null,
   "metadata": {},
   "outputs": [],
   "source": []
  }
 ],
 "metadata": {
  "kernelspec": {
   "display_name": "OZ",
   "language": "python",
   "name": "oz"
  },
  "language_info": {
   "codemirror_mode": {
    "name": "ipython",
    "version": 3
   },
   "file_extension": ".py",
   "mimetype": "text/x-python",
   "name": "python",
   "nbconvert_exporter": "python",
   "pygments_lexer": "ipython3",
   "version": "3.8.2"
  }
 },
 "nbformat": 4,
 "nbformat_minor": 4
}
