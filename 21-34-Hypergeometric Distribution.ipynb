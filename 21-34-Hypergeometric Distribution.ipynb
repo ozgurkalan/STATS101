{
 "cells": [
  {
   "cell_type": "markdown",
   "id": "20d8fdd0",
   "metadata": {},
   "source": [
    "# Hypergeometric Distribution"
   ]
  },
  {
   "cell_type": "code",
   "execution_count": 1,
   "id": "3ea46fc1",
   "metadata": {
    "ExecuteTime": {
     "end_time": "2021-12-12T04:49:48.688934Z",
     "start_time": "2021-12-12T04:49:44.954103Z"
    }
   },
   "outputs": [
    {
     "data": {
      "application/javascript": [
       "IPython.OutputArea.auto_scroll_threshold = 9999\n"
      ],
      "text/plain": [
       "<IPython.core.display.Javascript object>"
      ]
     },
     "metadata": {},
     "output_type": "display_data"
    },
    {
     "data": {
      "text/html": [
       "\n",
       "    <style>\n",
       "        div#notebook-container    { width: 97%; }\n",
       "        div#menubar-container     { width: 90%; }\n",
       "        div#maintoolbar-container { width: 90%; }\n",
       "    </style>\n",
       "    "
      ],
      "text/plain": [
       "<IPython.core.display.HTML object>"
      ]
     },
     "metadata": {},
     "output_type": "display_data"
    }
   ],
   "source": [
    "# environmental variables, settings and imports\n",
    "%run '000-env.ipynb'"
   ]
  },
  {
   "cell_type": "markdown",
   "id": "0e9b34cf",
   "metadata": {},
   "source": [
    "---"
   ]
  },
  {
   "cell_type": "markdown",
   "id": "f2e73ad2",
   "metadata": {},
   "source": [
    "The **hypergeometric** is a generalisation of the *binomial* distribution. The binomial is the number of successes in n independent Bernoulli trials. In the hypergeometric the trials are *not independent*. Think of balls of two colours drawn from an urn without replacement. If the balls are replaced the number of one colour has a binomial distribution. If they are not replaced you get a *hypergeometric distribution*."
   ]
  },
  {
   "cell_type": "markdown",
   "id": "aad217d9",
   "metadata": {},
   "source": [
    "* Discrete distribution\n",
    "* like bionamial, but not **without replacement**\n",
    "* the probability of success changes with each draw\n",
    "* famous with poker cards\n",
    "* defined by three parameters:\n",
    "    * N - total population size (M, for scipy)\n",
    "    * A - total item of interest in population (n)\n",
    "    * n - sample size (N)"
   ]
  },
  {
   "cell_type": "markdown",
   "id": "110a4a64",
   "metadata": {},
   "source": [
    "."
   ]
  },
  {
   "cell_type": "markdown",
   "id": "d8cad2a7",
   "metadata": {},
   "source": [
    "## Resources"
   ]
  },
  {
   "cell_type": "code",
   "execution_count": 2,
   "id": "980d6891",
   "metadata": {
    "ExecuteTime": {
     "end_time": "2021-12-12T04:49:54.163019Z",
     "start_time": "2021-12-12T04:49:53.554179Z"
    }
   },
   "outputs": [
    {
     "data": {
      "application/vnd.jupyter.widget-view+json": {
       "model_id": "2a304b41568a435a9427e96f31d854e1",
       "version_major": 2,
       "version_minor": 0
      },
      "text/plain": [
       "GridspecLayout(children=(Output(layout=Layout(grid_area='widget001')),), layout=Layout(grid_template_areas='\"w…"
      ]
     },
     "metadata": {},
     "output_type": "display_data"
    }
   ],
   "source": [
    "youGrid(\"upVJ4YqTlC4\")"
   ]
  },
  {
   "cell_type": "markdown",
   "id": "fe91fee4",
   "metadata": {},
   "source": [
    "## Examples"
   ]
  },
  {
   "cell_type": "markdown",
   "id": "f5a50f95",
   "metadata": {},
   "source": [
    "<span style=\"font-size:large; color:blue; font-weight:bold\">\n",
    "Probability distribution of number of spades in a 5-card poker hand; \n",
    "</span>"
   ]
  },
  {
   "cell_type": "code",
   "execution_count": 2,
   "id": "ab1ecc1c",
   "metadata": {
    "ExecuteTime": {
     "end_time": "2021-12-01T12:04:48.442713Z",
     "start_time": "2021-12-01T12:04:48.437633Z"
    }
   },
   "outputs": [],
   "source": [
    "M = 52 # total cards\n",
    "n = 13 # total spades\n",
    "N = 5 # cards in hand"
   ]
  },
  {
   "cell_type": "markdown",
   "id": "066a1497",
   "metadata": {},
   "source": [
    "<span style=\"font-size:large; color:blue\">2 spades in 5 card</span>"
   ]
  },
  {
   "cell_type": "code",
   "execution_count": 3,
   "id": "605a23a5",
   "metadata": {
    "ExecuteTime": {
     "end_time": "2021-12-01T12:04:48.465104Z",
     "start_time": "2021-12-01T12:04:48.448084Z"
    }
   },
   "outputs": [
    {
     "data": {
      "text/plain": [
       "0.27427971188475375"
      ]
     },
     "execution_count": 3,
     "metadata": {},
     "output_type": "execute_result"
    }
   ],
   "source": [
    "stats.hypergeom(M=M, n=n, N=N).pmf(2)"
   ]
  },
  {
   "cell_type": "markdown",
   "id": "d4122489",
   "metadata": {},
   "source": [
    "<span style=\"font-size:large; color:blue\">at least 2 spades in 5 card</span>"
   ]
  },
  {
   "cell_type": "code",
   "execution_count": 4,
   "id": "8e855f71",
   "metadata": {
    "ExecuteTime": {
     "end_time": "2021-12-01T12:04:48.489601Z",
     "start_time": "2021-12-01T12:04:48.470759Z"
    }
   },
   "outputs": [
    {
     "data": {
      "text/plain": [
       "0.9072328931572632"
      ]
     },
     "execution_count": 4,
     "metadata": {},
     "output_type": "execute_result"
    }
   ],
   "source": [
    "stats.hypergeom(M=M, n=n, N=N).cdf(2)"
   ]
  },
  {
   "cell_type": "markdown",
   "id": "cea66f89",
   "metadata": {},
   "source": [
    "."
   ]
  },
  {
   "cell_type": "markdown",
   "id": "d2007cdc",
   "metadata": {},
   "source": [
    "<span style=\"font-size:large;color:blue;\">Suppose your friend has 10 cookies, 3 of which are chocolate chip. Your friend randomly divides the cookies equally between herself and you. What is the probability that you get all the chocolate chip cookies?</span>"
   ]
  },
  {
   "cell_type": "code",
   "execution_count": 11,
   "id": "bd06d1bd",
   "metadata": {
    "ExecuteTime": {
     "end_time": "2021-12-01T12:56:06.313776Z",
     "start_time": "2021-12-01T12:56:06.301797Z"
    }
   },
   "outputs": [
    {
     "data": {
      "text/plain": [
       "0.08333333333333337"
      ]
     },
     "execution_count": 11,
     "metadata": {},
     "output_type": "execute_result"
    }
   ],
   "source": [
    "M=10 # total cookies\n",
    "n=5 # share of cookies per each friend\n",
    "N=3 # chocolate cookies \n",
    "stats.hypergeom(M=10, N=3, n=5).pmf(3)"
   ]
  },
  {
   "cell_type": "markdown",
   "id": "67970188",
   "metadata": {},
   "source": [
    "."
   ]
  },
  {
   "cell_type": "markdown",
   "id": "22b9753a",
   "metadata": {},
   "source": [
    "<span style=\"font-size:large;color:blue\">Suppose we have a collection of 20 animals, of which 7 are dogs.  Then if\n",
    "we want to know the probability of finding a given number of dogs if we\n",
    "choose at random 12 of the 20 animals, we can initialize a frozen\n",
    "distribution and plot the probability mass function:\n",
    "</span>"
   ]
  },
  {
   "cell_type": "code",
   "execution_count": 13,
   "id": "83606360",
   "metadata": {
    "ExecuteTime": {
     "end_time": "2021-12-01T13:00:28.612841Z",
     "start_time": "2021-12-01T13:00:28.206917Z"
    }
   },
   "outputs": [
    {
     "data": {
      "image/png": "[encoded data removed]",
      "text/plain": [
       "<Figure size 432x288 with 1 Axes>"
      ]
     },
     "metadata": {
      "needs_background": "light"
     },
     "output_type": "display_data"
    }
   ],
   "source": [
    "[M, n, N] = [20, 7, 12]\n",
    "\n",
    "rv = stats.hypergeom(M, n, N)\n",
    "x = np.arange(0, n+1)\n",
    "pmf_dogs = rv.pmf(x)\n",
    "\n",
    "fig = plt.figure()\n",
    "ax = fig.add_subplot(111)\n",
    "ax.plot(x, pmf_dogs, 'bo')\n",
    "ax.vlines(x, 0, pmf_dogs, lw=2)\n",
    "ax.set_xlabel('# of dogs in our group of chosen animals')\n",
    "ax.set_ylabel('hypergeom PMF')\n",
    "plt.show()"
   ]
  },
  {
   "cell_type": "code",
   "execution_count": null,
   "id": "61e316e4",
   "metadata": {},
   "outputs": [],
   "source": []
  }
 ],
 "metadata": {
  "kernelspec": {
   "display_name": "OZ",
   "language": "python",
   "name": "oz"
  },
  "language_info": {
   "codemirror_mode": {
    "name": "ipython",
    "version": 3
   },
   "file_extension": ".py",
   "mimetype": "text/x-python",
   "name": "python",
   "nbconvert_exporter": "python",
   "pygments_lexer": "ipython3",
   "version": "3.8.2"
  }
 },
 "nbformat": 4,
 "nbformat_minor": 5
}
