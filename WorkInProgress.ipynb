{
 "cells": [
  {
   "cell_type": "code",
   "execution_count": 1,
   "id": "b56379de-f8da-42c5-a810-49e7f133dd10",
   "metadata": {
    "execution": {
     "iopub.execute_input": "2023-08-13T05:38:55.633640Z",
     "iopub.status.busy": "2023-08-13T05:38:55.629925Z",
     "iopub.status.idle": "2023-08-13T05:39:03.270423Z",
     "shell.execute_reply": "2023-08-13T05:39:03.268988Z",
     "shell.execute_reply.started": "2023-08-13T05:38:55.633598Z"
    }
   },
   "outputs": [
    {
     "data": {
      "text/html": [
       "\n",
       "        <style>\n",
       "            div#notebook-container    { width: 97%; }\n",
       "            div#menubar-container     { width: 90%; }\n",
       "            div#maintoolbar-container { width: 90%; }\n",
       "        </style>\n",
       "        "
      ],
      "text/plain": [
       "<IPython.core.display.HTML object>"
      ]
     },
     "metadata": {},
     "output_type": "display_data"
    }
   ],
   "source": [
    "%run init.ipynb"
   ]
  },
  {
   "cell_type": "code",
   "execution_count": null,
   "id": "cf4835c4-650f-4fdb-8d03-1d64d3efb5dd",
   "metadata": {},
   "outputs": [],
   "source": []
  },
  {
   "cell_type": "code",
   "execution_count": null,
   "id": "dfa3e466-ace7-4a48-bf89-be848eb20e76",
   "metadata": {},
   "outputs": [],
   "source": []
  }
 ],
 "metadata": {
  "kernelspec": {
   "display_name": "OZ",
   "language": "python",
   "name": "oz"
  },
  "language_info": {
   "codemirror_mode": {
    "name": "ipython",
    "version": 3
   },
   "file_extension": ".py",
   "mimetype": "text/x-python",
   "name": "python",
   "nbconvert_exporter": "python",
   "pygments_lexer": "ipython3",
   "version": "3.10.9"
  }
 },
 "nbformat": 4,
 "nbformat_minor": 5
}
