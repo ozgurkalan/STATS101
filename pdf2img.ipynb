{
 "cells": [
  {
   "cell_type": "markdown",
   "id": "e11967ae-b7ff-4ee9-a70c-e15a807d5e53",
   "metadata": {},
   "source": [
    "# 📊 PDF to image"
   ]
  },
  {
   "cell_type": "markdown",
   "id": "724a9006-7c55-4550-90e0-a42aef65aba2",
   "metadata": {},
   "source": [
    "special tool to create png files from source PDF files."
   ]
  },
  {
   "cell_type": "markdown",
   "id": "76a92c3f-6274-4c15-a307-9dbe4ff2893d",
   "metadata": {},
   "source": [
    "<div class='alert alert-info'>\n",
    "<h3>Setup</h3>\n",
    "\n",
    "need to install poppler first! see installation instructions:\n",
    "* [pdf2image readthedocs](https://pdf2image.readthedocs.io/en/latest/index.html)\n",
    "</div>"
   ]
  },
  {
   "cell_type": "markdown",
   "id": "62dc73c3-4593-4677-a64a-d40b3d8d1976",
   "metadata": {},
   "source": [
    "## init"
   ]
  },
  {
   "cell_type": "code",
   "execution_count": 1,
   "id": "786ee2d2-36af-43ba-b7f3-d5a8d6b833f3",
   "metadata": {
    "execution": {
     "iopub.execute_input": "2023-08-12T11:08:47.477810Z",
     "iopub.status.busy": "2023-08-12T11:08:47.475691Z",
     "iopub.status.idle": "2023-08-12T11:08:57.120013Z",
     "shell.execute_reply": "2023-08-12T11:08:57.116623Z",
     "shell.execute_reply.started": "2023-08-12T11:08:47.477750Z"
    }
   },
   "outputs": [
    {
     "data": {
      "text/html": [
       "\n",
       "        <style>\n",
       "            div#notebook-container    { width: 97%; }\n",
       "            div#menubar-container     { width: 90%; }\n",
       "            div#maintoolbar-container { width: 90%; }\n",
       "        </style>\n",
       "        "
      ],
      "text/plain": [
       "<IPython.core.display.HTML object>"
      ]
     },
     "metadata": {},
     "output_type": "display_data"
    }
   ],
   "source": [
    "%run init.ipynb"
   ]
  },
  {
   "cell_type": "markdown",
   "id": "399def3e-6173-4860-a4c0-21bcc553eeef",
   "metadata": {},
   "source": [
    "## setup"
   ]
  },
  {
   "cell_type": "code",
   "execution_count": 8,
   "id": "b67ccdcd-1ecf-4736-a901-d7e120a36261",
   "metadata": {
    "execution": {
     "iopub.execute_input": "2023-08-13T04:34:01.550509Z",
     "iopub.status.busy": "2023-08-13T04:34:01.549991Z",
     "iopub.status.idle": "2023-08-13T04:34:01.584743Z",
     "shell.execute_reply": "2023-08-13T04:34:01.565905Z",
     "shell.execute_reply.started": "2023-08-13T04:34:01.550469Z"
    }
   },
   "outputs": [],
   "source": [
    "import pdf2image\n",
    "\n",
    "from typing import Union\n",
    "from pathlib import PosixPath, WindowsPath"
   ]
  },
  {
   "cell_type": "markdown",
   "id": "df4c57bd-fa1f-42b4-a1b3-b514969c38d5",
   "metadata": {},
   "source": [
    "# pdf function"
   ]
  },
  {
   "cell_type": "code",
   "execution_count": 17,
   "id": "8b4bf585-f9d9-448d-b9ff-db6bd6e92eaf",
   "metadata": {
    "execution": {
     "iopub.execute_input": "2023-08-13T04:49:01.184676Z",
     "iopub.status.busy": "2023-08-13T04:49:01.184071Z",
     "iopub.status.idle": "2023-08-13T04:49:01.210038Z",
     "shell.execute_reply": "2023-08-13T04:49:01.206301Z",
     "shell.execute_reply.started": "2023-08-13T04:49:01.184636Z"
    }
   },
   "outputs": [],
   "source": [
    "def pdf_to_image(file:Union[str, PosixPath, WindowsPath]):\n",
    "    \"\"\"converts all pdf pages to png images with size 1200\n",
    "    creates a folder in tmp dir with stem name and saves images with stem prefix\n",
    "\n",
    "    parameters:\n",
    "        file: str, posixpath or windowspath to pdf file\n",
    "\n",
    "    warnings:\n",
    "        previous exports deleted, if exists\n",
    "    \"\"\"\n",
    "    if isinstance(file, str):\n",
    "        file = Path(file).resolve()\n",
    "    \n",
    "    stem = file.stem\n",
    "\n",
    "    tmp = Path(\".\").joinpath(\"tmp\")\n",
    "    tmp.mkdir(exist_ok=True)\n",
    "\n",
    "    target = tmp.joinpath(stem)\n",
    "    target.mkdir(exist_ok=True)\n",
    "    \n",
    "    for item in target.glob(\"*\"):\n",
    "        item.unlink()\n",
    "\n",
    "    pdf2image.convert_from_path(file, \n",
    "                            output_folder=target, \n",
    "                            output_file=f\"{stem}_\" ,\n",
    "                            fmt=\"png\",\n",
    "                            size=1200\n",
    "                           )\n",
    "    print(f\"pdf converted to images in dir: \\n {target}\")\n"
   ]
  },
  {
   "cell_type": "markdown",
   "id": "39b9f102-2c34-43cd-8be9-4dda09d55666",
   "metadata": {},
   "source": [
    "---"
   ]
  },
  {
   "cell_type": "markdown",
   "id": "b74fd3e6-d782-4183-9e97-fa3f656d10ae",
   "metadata": {
    "execution": {
     "iopub.execute_input": "2023-08-12T11:22:19.152732Z",
     "iopub.status.busy": "2023-08-12T11:22:19.150459Z",
     "iopub.status.idle": "2023-08-12T11:22:19.169122Z",
     "shell.execute_reply": "2023-08-12T11:22:19.167024Z",
     "shell.execute_reply.started": "2023-08-12T11:22:19.152678Z"
    }
   },
   "source": [
    "# WiP"
   ]
  },
  {
   "cell_type": "code",
   "execution_count": 18,
   "id": "98be5575-7614-4893-97c9-84c028a3d2ba",
   "metadata": {
    "execution": {
     "iopub.execute_input": "2023-08-13T04:49:19.960221Z",
     "iopub.status.busy": "2023-08-13T04:49:19.954660Z",
     "iopub.status.idle": "2023-08-13T04:49:23.177412Z",
     "shell.execute_reply": "2023-08-13T04:49:23.175419Z",
     "shell.execute_reply.started": "2023-08-13T04:49:19.960175Z"
    }
   },
   "outputs": [
    {
     "name": "stdout",
     "output_type": "stream",
     "text": [
      "pdf converted to images in dir: \n",
      " tmp/Course+notes_regression_analysis\n"
     ]
    }
   ],
   "source": [
    "pdf_to_image(\"../Course+notes_regression_analysis.pdf\")"
   ]
  },
  {
   "cell_type": "code",
   "execution_count": null,
   "id": "54df2f75-d03e-4cb1-ad8c-76075f7dd406",
   "metadata": {},
   "outputs": [],
   "source": []
  },
  {
   "cell_type": "code",
   "execution_count": null,
   "id": "fd61ee60-fecf-494c-b1e7-dad831f70d4f",
   "metadata": {},
   "outputs": [],
   "source": []
  }
 ],
 "metadata": {
  "kernelspec": {
   "display_name": "OZ",
   "language": "python",
   "name": "oz"
  },
  "language_info": {
   "codemirror_mode": {
    "name": "ipython",
    "version": 3
   },
   "file_extension": ".py",
   "mimetype": "text/x-python",
   "name": "python",
   "nbconvert_exporter": "python",
   "pygments_lexer": "ipython3",
   "version": "3.10.9"
  }
 },
 "nbformat": 4,
 "nbformat_minor": 5
}
