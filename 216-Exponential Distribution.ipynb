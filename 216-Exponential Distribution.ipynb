{
 "cells": [
  {
   "cell_type": "markdown",
   "metadata": {},
   "source": [
    "# Exponential Distribution"
   ]
  },
  {
   "cell_type": "code",
   "execution_count": 1,
   "metadata": {
    "ExecuteTime": {
     "end_time": "2021-12-01T09:36:25.841789Z",
     "start_time": "2021-12-01T09:36:21.878082Z"
    }
   },
   "outputs": [
    {
     "data": {
      "application/javascript": [
       "IPython.OutputArea.auto_scroll_threshold = 9999\n"
      ],
      "text/plain": [
       "<IPython.core.display.Javascript object>"
      ]
     },
     "metadata": {},
     "output_type": "display_data"
    },
    {
     "data": {
      "text/html": [
       "\n",
       "    <style>\n",
       "        div#notebook-container    { width: 97%; }\n",
       "        div#menubar-container     { width: 90%; }\n",
       "        div#maintoolbar-container { width: 90%; }\n",
       "    </style>\n",
       "    "
      ],
      "text/plain": [
       "<IPython.core.display.HTML object>"
      ]
     },
     "metadata": {},
     "output_type": "display_data"
    }
   ],
   "source": [
    "# environmental variables, settings and imports\n",
    "%run '000-env.ipynb'"
   ]
  },
  {
   "cell_type": "markdown",
   "metadata": {},
   "source": [
    "---"
   ]
  },
  {
   "cell_type": "markdown",
   "metadata": {},
   "source": [
    "* inverse of Poisson\n",
    "* Time between events in a Poisson process\n",
    "* events must occur in a constant rate\n",
    "* events must be independent of each other\n",
    "* continious => PDF\n",
    "* memoryless => you wait for visitors from 06:00 - 06:01 and 06:20 - 06:21 are same."
   ]
  },
  {
   "cell_type": "markdown",
   "metadata": {},
   "source": [
    "Poisson => Number of cars passing a tollgate in an hour (cars per hour)  \n",
    "Exponential => Number of hours between car arrivals (hours per car)"
   ]
  },
  {
   "cell_type": "markdown",
   "metadata": {},
   "source": [
    "---"
   ]
  },
  {
   "cell_type": "markdown",
   "metadata": {},
   "source": [
    "## Examples"
   ]
  },
  {
   "cell_type": "markdown",
   "metadata": {},
   "source": [
    "<span style=\"font-size:large; color:blue\">\n",
    "Unique visitors at a website at an average rate of 3 hours\n",
    "</span>"
   ]
  },
  {
   "cell_type": "code",
   "execution_count": 432,
   "metadata": {
    "ExecuteTime": {
     "end_time": "2020-07-18T04:53:19.021939Z",
     "start_time": "2020-07-18T04:53:19.003323Z"
    }
   },
   "outputs": [],
   "source": [
    "lamb = mu = 3\n",
    "np.random.seed(27)\n",
    "x = stats.poisson(mu=mu).rvs(100)"
   ]
  },
  {
   "cell_type": "code",
   "execution_count": 433,
   "metadata": {
    "ExecuteTime": {
     "end_time": "2020-07-18T04:53:19.497905Z",
     "start_time": "2020-07-18T04:53:19.028244Z"
    }
   },
   "outputs": [
    {
     "data": {
      "image/png": "[encoded data removed]",
      "text/plain": [
       "<Figure size 432x288 with 1 Axes>"
      ]
     },
     "metadata": {
      "needs_background": "light"
     },
     "output_type": "display_data"
    }
   ],
   "source": [
    "\n",
    "plt.bar(x, stats.poisson(mu=mu).pmf(x), color=COLOR1)\n",
    "plt.title(\"Poisson Distribution\", fontdict={\"fontweight\":\"bold\", \"fontsize\":15, \"color\":\"darkred\"})\n",
    "plt.xticks(np.arange(11));\n",
    "plt.xlabel(\"$\\lambda=$\"+str(mu));"
   ]
  },
  {
   "cell_type": "markdown",
   "metadata": {},
   "source": [
    "<span style=\"font-size:large; color:blue\">\n",
    "Hours until the next arrival\n",
    "</span>"
   ]
  },
  {
   "cell_type": "markdown",
   "metadata": {},
   "source": [
    "Exponential Distribution  "
   ]
  },
  {
   "cell_type": "code",
   "execution_count": 434,
   "metadata": {
    "ExecuteTime": {
     "end_time": "2020-07-18T04:53:19.510718Z",
     "start_time": "2020-07-18T04:53:19.503654Z"
    }
   },
   "outputs": [],
   "source": [
    "lamb = 3"
   ]
  },
  {
   "cell_type": "code",
   "execution_count": 435,
   "metadata": {
    "ExecuteTime": {
     "end_time": "2020-07-18T04:53:19.532647Z",
     "start_time": "2020-07-18T04:53:19.520254Z"
    }
   },
   "outputs": [],
   "source": [
    "exp = stats.expon(scale=1/lamb) ### SCALE for frozen distribution!"
   ]
  },
  {
   "cell_type": "code",
   "execution_count": 436,
   "metadata": {
    "ExecuteTime": {
     "end_time": "2020-07-18T04:53:19.549272Z",
     "start_time": "2020-07-18T04:53:19.540595Z"
    }
   },
   "outputs": [],
   "source": [
    "x = np.linspace(exp.ppf(0.01), exp.ppf(0.99), 1000)"
   ]
  },
  {
   "cell_type": "code",
   "execution_count": 437,
   "metadata": {
    "ExecuteTime": {
     "end_time": "2020-07-18T04:53:19.945874Z",
     "start_time": "2020-07-18T04:53:19.556849Z"
    }
   },
   "outputs": [
    {
     "data": {
      "image/png": "[encoded data removed]",
      "text/plain": [
       "<Figure size 432x288 with 2 Axes>"
      ]
     },
     "metadata": {
      "needs_background": "light"
     },
     "output_type": "display_data"
    }
   ],
   "source": [
    "fig, (ax1, ax2) = plt.subplots(1,2)\n",
    "\n",
    "ax1.plot(x, exp.pdf(x));\n",
    "ax1.set_ylabel(\"PDF\"); ax1.set_xlabel(\"Hours\");\n",
    "\n",
    "ax2.plot(x, exp.cdf(x));\n",
    "ax2.set_ylabel(\"CDF\");ax2.set_xlabel(\"Hours\");\n",
    "\n",
    "fig.suptitle(\"Exponential Distribution\\n\", fontdict={\"fontweight\":\"bold\", \"color\":\"darkred\"}, fontsize=15);\n",
    "fig.tight_layout(pad=1.5)"
   ]
  },
  {
   "cell_type": "markdown",
   "metadata": {},
   "source": [
    "website visitors:"
   ]
  },
  {
   "cell_type": "markdown",
   "metadata": {},
   "source": [
    "<span style=\"font-size:large; color:blue\">\n",
    "(a) within 10 minutes\n",
    "</span>"
   ]
  },
  {
   "cell_type": "code",
   "execution_count": 438,
   "metadata": {
    "ExecuteTime": {
     "end_time": "2020-07-18T04:53:19.955172Z",
     "start_time": "2020-07-18T04:53:19.949971Z"
    }
   },
   "outputs": [],
   "source": [
    "mu = 60/3 # minutes = 20"
   ]
  },
  {
   "cell_type": "code",
   "execution_count": 439,
   "metadata": {
    "ExecuteTime": {
     "end_time": "2020-07-18T04:53:19.979248Z",
     "start_time": "2020-07-18T04:53:19.959321Z"
    }
   },
   "outputs": [
    {
     "data": {
      "text/plain": [
       "0.3934693402873666"
      ]
     },
     "execution_count": 439,
     "metadata": {},
     "output_type": "execute_result"
    }
   ],
   "source": [
    "stats.expon(scale=mu).cdf(10)"
   ]
  },
  {
   "cell_type": "markdown",
   "metadata": {},
   "source": [
    "<span style=\"font-size:large; color:blue\">\n",
    "(b) after 30 minutes passes\n",
    "</span>"
   ]
  },
  {
   "cell_type": "code",
   "execution_count": 440,
   "metadata": {
    "ExecuteTime": {
     "end_time": "2020-07-18T04:53:19.997236Z",
     "start_time": "2020-07-18T04:53:19.983780Z"
    }
   },
   "outputs": [
    {
     "data": {
      "text/plain": [
       "0.22313016014842982"
      ]
     },
     "execution_count": 440,
     "metadata": {},
     "output_type": "execute_result"
    }
   ],
   "source": [
    "stats.expon(scale=mu).sf(30)"
   ]
  },
  {
   "cell_type": "markdown",
   "metadata": {},
   "source": [
    "<span style=\"font-size:large; color:blue\">\n",
    "(c) in exactly 15 minutes\n",
    "</span>"
   ]
  },
  {
   "cell_type": "code",
   "execution_count": 441,
   "metadata": {
    "ExecuteTime": {
     "end_time": "2020-07-18T04:53:20.016617Z",
     "start_time": "2020-07-18T04:53:20.002325Z"
    }
   },
   "outputs": [
    {
     "data": {
      "text/plain": [
       "0.023618327637050733"
      ]
     },
     "execution_count": 441,
     "metadata": {},
     "output_type": "execute_result"
    }
   ],
   "source": [
    "stats.expon(scale=mu).pdf(15)"
   ]
  },
  {
   "cell_type": "code",
   "execution_count": null,
   "metadata": {},
   "outputs": [],
   "source": []
  },
  {
   "cell_type": "code",
   "execution_count": null,
   "metadata": {},
   "outputs": [],
   "source": []
  },
  {
   "cell_type": "code",
   "execution_count": null,
   "metadata": {},
   "outputs": [],
   "source": []
  }
 ],
 "metadata": {
  "kernelspec": {
   "display_name": "OZ",
   "language": "python",
   "name": "oz"
  },
  "language_info": {
   "codemirror_mode": {
    "name": "ipython",
    "version": 3
   },
   "file_extension": ".py",
   "mimetype": "text/x-python",
   "name": "python",
   "nbconvert_exporter": "python",
   "pygments_lexer": "ipython3",
   "version": "3.8.2"
  },
  "toc": {
   "base_numbering": 1,
   "nav_menu": {},
   "number_sections": false,
   "sideBar": true,
   "skip_h1_title": true,
   "title_cell": "Table of Contents",
   "title_sidebar": "Contents",
   "toc_cell": true,
   "toc_position": {},
   "toc_section_display": true,
   "toc_window_display": false
  }
 },
 "nbformat": 4,
 "nbformat_minor": 4
}
