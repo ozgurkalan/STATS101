{
 "cells": [
  {
   "cell_type": "markdown",
   "id": "9d1da920",
   "metadata": {},
   "source": [
    "# Coveriance and Correlation"
   ]
  },
  {
   "cell_type": "code",
   "execution_count": 22,
   "id": "3287e220",
   "metadata": {
    "ExecuteTime": {
     "end_time": "2021-11-28T07:08:30.894308Z",
     "start_time": "2021-11-28T07:08:30.516376Z"
    }
   },
   "outputs": [
    {
     "data": {
      "application/javascript": [
       "IPython.OutputArea.auto_scroll_threshold = 9999\n"
      ],
      "text/plain": [
       "<IPython.core.display.Javascript object>"
      ]
     },
     "metadata": {},
     "output_type": "display_data"
    },
    {
     "data": {
      "text/html": [
       "\n",
       "    <style>\n",
       "        div#notebook-container    { width: 97%; }\n",
       "        div#menubar-container     { width: 90%; }\n",
       "        div#maintoolbar-container { width: 90%; }\n",
       "    </style>\n",
       "    "
      ],
      "text/plain": [
       "<IPython.core.display.HTML object>"
      ]
     },
     "metadata": {},
     "output_type": "display_data"
    }
   ],
   "source": [
    "# environmental variables, settings and imports\n",
    "%run '000-env.ipynb'"
   ]
  },
  {
   "cell_type": "markdown",
   "id": "ab24bd08",
   "metadata": {},
   "source": [
    "---"
   ]
  },
  {
   "cell_type": "markdown",
   "id": "705240b5",
   "metadata": {
    "ExecuteTime": {
     "end_time": "2021-11-28T06:26:04.559512Z",
     "start_time": "2021-11-28T06:26:04.552035Z"
    }
   },
   "source": [
    "## Relationship between variables"
   ]
  },
  {
   "cell_type": "markdown",
   "id": "31cd7475",
   "metadata": {},
   "source": [
    "A **dependent** variable is one being tested and measured in an experiment. It is ‘dependent’ on the independent variable. Whenever the values of independent variables are changed, dependent variables respond accordingly.An **independent** variable is one that is changed in an experiment to test the effects on the dependent variables."
   ]
  },
  {
   "cell_type": "markdown",
   "id": "54096acd",
   "metadata": {
    "ExecuteTime": {
     "end_time": "2021-11-28T06:30:09.858538Z",
     "start_time": "2021-11-28T06:30:09.854931Z"
    }
   },
   "source": [
    "## Coveriance"
   ]
  },
  {
   "cell_type": "markdown",
   "id": "5e2b456b",
   "metadata": {},
   "source": [
    "Covariance is a measure of how two variables will respond to the same stimuli."
   ]
  },
  {
   "cell_type": "markdown",
   "id": "8dd3f2dc",
   "metadata": {},
   "source": [
    "**Covariance = ∑ (x – x̄) (y – ȳ)/n**"
   ]
  },
  {
   "cell_type": "markdown",
   "id": "ee12589b",
   "metadata": {},
   "source": [
    "$S_{xy} = \\sum_{i=1}^{n} (x_i - \\bar{x})(y_i - \\bar{y})\n",
    "$"
   ]
  },
  {
   "cell_type": "markdown",
   "id": "8ead69f9",
   "metadata": {},
   "source": [
    "We only judge the direction of the relationship using covariance and not its magnitude"
   ]
  },
  {
   "cell_type": "markdown",
   "id": "2a64236e",
   "metadata": {},
   "source": [
    "## Correlation"
   ]
  },
  {
   "cell_type": "markdown",
   "id": "aaf648f7",
   "metadata": {},
   "source": [
    "A correlation between variables indicates that as one variable changes in value, the other tends to change in a specific direction."
   ]
  },
  {
   "cell_type": "markdown",
   "id": "17e2534f",
   "metadata": {},
   "source": [
    "The correlation or the correlation coefficient is obtained by normalizing the covariance. It is obtained when we divide the covariance by the product of individual standard deviations of the variables."
   ]
  },
  {
   "cell_type": "markdown",
   "id": "846a75d0",
   "metadata": {},
   "source": [
    "* Correlation coefficients are used to measure the strength of the linear relationship between two variables.\n",
    "* A correlation coefficient greater than zero indicates a positive relationship while a value less than zero signifies a negative relationship.\n",
    "* A value of zero indicates no relationship between the two variables being compared."
   ]
  },
  {
   "cell_type": "markdown",
   "id": "5f77f6cd",
   "metadata": {},
   "source": [
    "### Pearson R Correlation"
   ]
  },
  {
   "cell_type": "markdown",
   "id": "aa9e32e7",
   "metadata": {},
   "source": [
    "Pearson R correlation is the most widely used correlation statistic to measure the degree of the relationship between variables."
   ]
  },
  {
   "cell_type": "markdown",
   "id": "ce3759e6",
   "metadata": {},
   "source": [
    "The Pearson correlation coefficient is probably the most widely used measure for linear relationships between two normal distributed variables and thus often just called \"correlation coefficient\". Usually, the Pearson coefficient is obtained via a Least-Squares fit and a value of 1 represents a perfect positive relation-ship, -1 a perfect negative relationship, and 0 indicates the absence of a relationship between variables."
   ]
  },
  {
   "cell_type": "markdown",
   "id": "9d354db9",
   "metadata": {},
   "source": [
    "$\\rho = \\frac{\\text{cov}(X,Y)}{\\sigma_x \\sigma_y}$"
   ]
  },
  {
   "cell_type": "markdown",
   "id": "39b42ec6",
   "metadata": {},
   "source": [
    "..and the estimate"
   ]
  },
  {
   "cell_type": "markdown",
   "id": "1d3fbf79",
   "metadata": {},
   "source": [
    "$r = \\frac{{}\\sum_{i=1}^{n} (x_i - \\overline{x})(y_i - \\overline{y})}\n",
    "{\\sqrt{\\sum_{i=1}^{n} (x_i - \\overline{x})^2(y_i - \\overline{y})^2}}\n",
    "$"
   ]
  },
  {
   "cell_type": "markdown",
   "id": "6d28537b",
   "metadata": {},
   "source": [
    "### Kendall Correlation"
   ]
  },
  {
   "cell_type": "markdown",
   "id": "9aaae933",
   "metadata": {},
   "source": [
    "Kendall rank correlation measures the strength of dependence between two variables."
   ]
  },
  {
   "cell_type": "markdown",
   "id": "76eebfd3",
   "metadata": {},
   "source": [
    "Similar to the Pearson correlation coefficient, Kendall's tau measures the degree of a monotone relationship between variables, and like Spearman's rho, it calculates the dependence between ranked variables, which makes is feasible for non-normal distributed data. Kendall tau can be calculated for continuous as well as ordinal data. Roughly speaking, Kendall's tau distinguishes itself from Spearman's rho by stronger penalization of non-sequential (in context of the ranked variables) dislocations."
   ]
  },
  {
   "cell_type": "markdown",
   "id": "e9387b6f",
   "metadata": {},
   "source": [
    "$\\tau = \\frac{c-d}{c+d} = \\frac{S}{\n",
    "\t\\left(\n",
    "\t\\begin{matrix} \n",
    " \tn \\\\\n",
    " \t2\n",
    "\\end{matrix}\n",
    "\\right)}\n",
    "= \\frac{2S}{n(n-1)}\n",
    "$"
   ]
  },
  {
   "cell_type": "markdown",
   "id": "dad8c2e7",
   "metadata": {},
   "source": [
    "Kendall’s tau is a correlation measure for ordinal data.  \n",
    "* c = number of concordant pairs.  \n",
    "* d = number of discordant pairs.\n",
    "* n = number of pairs"
   ]
  },
  {
   "cell_type": "markdown",
   "id": "9d7c3699",
   "metadata": {},
   "source": [
    "Kendall’s tau is a measure of the correspondence between two rankings. Values close to 1 indicate strong agreement, values close to -1 indicate strong disagreement. "
   ]
  },
  {
   "cell_type": "markdown",
   "id": "2f96b899",
   "metadata": {},
   "source": [
    "* Correlation between a student’s exam grade (A, B, C…) and the time spent studying put in categories (<2 hours, 2–4 hours, 5–7 hours…)\n",
    "* Customer satisfaction (e.g. Very Satisfied, Somewhat Satisfied, Neutral…) and delivery time (< 30 Minutes, 30 minutes — 1 Hour, 1–2 Hours etc)"
   ]
  },
  {
   "cell_type": "markdown",
   "id": "983793fb",
   "metadata": {},
   "source": [
    "Kendall rank correlation (non-parametric) is an alternative to Pearson’s correlation (parametric) when the data you’re working with has failed one or more assumptions of the test. This is also the best alternative to Spearman correlation (non-parametric) when your sample size is small and has many tied ranks."
   ]
  },
  {
   "cell_type": "markdown",
   "id": "fce91349",
   "metadata": {},
   "source": [
    "### Spearman Correlation"
   ]
  },
  {
   "cell_type": "markdown",
   "id": "7c66b0b6",
   "metadata": {},
   "source": [
    "Spearman rank correlation is used to measure the degree of association between two variables."
   ]
  },
  {
   "cell_type": "markdown",
   "id": "582c7161",
   "metadata": {},
   "source": [
    "Related to the Pearson correlation coefficient, the Spearman correlation coefficient (rho) measures the relationship between two variables. Spearman's rho can be understood as a rank-based version of Pearson's correlation coefficient, which can be used for variables that are not normal-distributed and have a non-linear relationship. Also, its use is not only restricted to continuous data, but can also be used in analyses of ordinal attributes."
   ]
  },
  {
   "cell_type": "markdown",
   "id": "767e3fa9",
   "metadata": {},
   "source": [
    "$\\rho = 1- {\\frac {6 \\sum d_i^2}{n(n^2 - 1)}}$"
   ]
  },
  {
   "cell_type": "markdown",
   "id": "7d8d4214",
   "metadata": {},
   "source": [
    "where  \n",
    "d = the pairwise distances of the ranks of the variables xi and yi .  \n",
    "n = the number of samples.  "
   ]
  },
  {
   "cell_type": "markdown",
   "id": "0eedd8c1",
   "metadata": {},
   "source": [
    "Values are converted to rank orders. And n expected to be: $n>10$"
   ]
  },
  {
   "cell_type": "markdown",
   "id": "830e5b11",
   "metadata": {},
   "source": [
    "### Non-Parametric Correlation Comparison: Kendall vs Spearman"
   ]
  },
  {
   "cell_type": "markdown",
   "id": "0172f8bf",
   "metadata": {},
   "source": [
    "* If two variables are independent, $\\rho$ and $\\tau$ are highly correlated. So it doesn't really matter which to choose.\n",
    "* Spearman $\\rho$ gives greater weight to ranks of pairs that are further apart, so it can be more affected by outliers, whereas Kendall $\\tau$ weights all discordants equally.\n",
    "* Spearman $\\rho$ is better when there is more uncertainty about the reliability of close ranks."
   ]
  },
  {
   "cell_type": "markdown",
   "id": "c2ba40e5",
   "metadata": {},
   "source": [
    "---"
   ]
  },
  {
   "cell_type": "markdown",
   "id": "6e84e69a",
   "metadata": {},
   "source": [
    "## Resources"
   ]
  },
  {
   "cell_type": "markdown",
   "id": "ac0e1870",
   "metadata": {},
   "source": [
    "https://www.investopedia.com/ask/answers/032515/what-does-it-mean-if-correlation-coefficient-positive-negative-or-zero.asp"
   ]
  },
  {
   "cell_type": "markdown",
   "id": "d383f36f",
   "metadata": {},
   "source": [
    "https://www.udemy.com/course/probability-and-statistics-for-business-and-data-science/learn/lecture/11062498#overview"
   ]
  },
  {
   "cell_type": "markdown",
   "id": "932048d6",
   "metadata": {},
   "source": [
    "http://www.statisticslectures.com/topics/spearman/"
   ]
  },
  {
   "cell_type": "code",
   "execution_count": 56,
   "id": "777e108c",
   "metadata": {
    "ExecuteTime": {
     "end_time": "2021-11-28T08:02:21.509726Z",
     "start_time": "2021-11-28T08:02:21.163603Z"
    }
   },
   "outputs": [
    {
     "name": "stdout",
     "output_type": "stream",
     "text": [
      "Statistics 101: Understanding Correlation\n"
     ]
    },
    {
     "data": {
      "image/jpeg": "[encoded data removed]",
      "text/html": [
       "\n",
       "        <iframe\n",
       "            width=\"400\"\n",
       "            height=\"300\"\n",
       "            src=\"https://www.youtube.com/embed/4EXNedimDMs\"\n",
       "            frameborder=\"0\"\n",
       "            allowfullscreen\n",
       "        ></iframe>\n",
       "        "
      ],
      "text/plain": [
       "<IPython.lib.display.YouTubeVideo at 0x7f94ea95ac10>"
      ]
     },
     "metadata": {},
     "output_type": "display_data"
    },
    {
     "name": "stdout",
     "output_type": "stream",
     "text": [
      "Brandon Foltz\n"
     ]
    }
   ],
   "source": [
    "print('Statistics 101: Understanding Correlation')\n",
    "display(YouTubeVideo('4EXNedimDMs'))\n",
    "print('Brandon Foltz')"
   ]
  },
  {
   "cell_type": "code",
   "execution_count": 71,
   "id": "46f53b49",
   "metadata": {
    "ExecuteTime": {
     "end_time": "2021-11-28T09:00:31.033943Z",
     "start_time": "2021-11-28T09:00:29.540994Z"
    }
   },
   "outputs": [
    {
     "data": {
      "image/jpeg": "[encoded data removed]",
      "text/html": [
       "\n",
       "        <iframe\n",
       "            width=\"400\"\n",
       "            height=\"300\"\n",
       "            src=\"https://www.youtube.com/embed/mG__Wpp9dns\"\n",
       "            frameborder=\"0\"\n",
       "            allowfullscreen\n",
       "        ></iframe>\n",
       "        "
      ],
      "text/plain": [
       "<IPython.lib.display.YouTubeVideo at 0x7f94eab6fa30>"
      ]
     },
     "execution_count": 71,
     "metadata": {},
     "output_type": "execute_result"
    }
   ],
   "source": [
    "YouTubeVideo('mG__Wpp9dns')"
   ]
  },
  {
   "cell_type": "code",
   "execution_count": 72,
   "id": "b5a57f5b",
   "metadata": {
    "ExecuteTime": {
     "end_time": "2021-11-28T09:00:53.275171Z",
     "start_time": "2021-11-28T09:00:53.022793Z"
    }
   },
   "outputs": [
    {
     "data": {
      "image/jpeg": "[encoded data removed]",
      "text/html": [
       "\n",
       "        <iframe\n",
       "            width=\"400\"\n",
       "            height=\"300\"\n",
       "            src=\"https://www.youtube.com/embed/bAstMHbytK0\"\n",
       "            frameborder=\"0\"\n",
       "            allowfullscreen\n",
       "        ></iframe>\n",
       "        "
      ],
      "text/plain": [
       "<IPython.lib.display.YouTubeVideo at 0x7f94eab6f760>"
      ]
     },
     "execution_count": 72,
     "metadata": {},
     "output_type": "execute_result"
    }
   ],
   "source": [
    "YouTubeVideo('bAstMHbytK0')"
   ]
  },
  {
   "cell_type": "code",
   "execution_count": 73,
   "id": "b80cba59",
   "metadata": {
    "ExecuteTime": {
     "end_time": "2021-11-28T09:31:04.496081Z",
     "start_time": "2021-11-28T09:31:04.226857Z"
    }
   },
   "outputs": [
    {
     "data": {
      "image/jpeg": "[encoded data removed]",
      "text/html": [
       "\n",
       "        <iframe\n",
       "            width=\"400\"\n",
       "            height=\"300\"\n",
       "            src=\"https://www.youtube.com/embed/YpG2MlulP_o\"\n",
       "            frameborder=\"0\"\n",
       "            allowfullscreen\n",
       "        ></iframe>\n",
       "        "
      ],
      "text/plain": [
       "<IPython.lib.display.YouTubeVideo at 0x7f94eab6fac0>"
      ]
     },
     "execution_count": 73,
     "metadata": {},
     "output_type": "execute_result"
    }
   ],
   "source": [
    "YouTubeVideo('YpG2MlulP_o')"
   ]
  },
  {
   "cell_type": "markdown",
   "id": "ed282f2c",
   "metadata": {},
   "source": [
    "---"
   ]
  },
  {
   "cell_type": "markdown",
   "id": "3e47167b",
   "metadata": {},
   "source": [
    "## Examples"
   ]
  },
  {
   "cell_type": "markdown",
   "id": "e8b3256d",
   "metadata": {},
   "source": [
    "<span style=\"font-size:large; color:blue\">\n",
    "Temperature vs. units of ice cream sold\n",
    "</span>"
   ]
  },
  {
   "cell_type": "code",
   "execution_count": 23,
   "id": "81b3f530",
   "metadata": {
    "ExecuteTime": {
     "end_time": "2021-11-28T07:18:03.022611Z",
     "start_time": "2021-11-28T07:18:02.997359Z"
    }
   },
   "outputs": [],
   "source": [
    "# Temp in Fahreneit and units of ice cream sold\n",
    "tmp_ice = np.array([[98,15], [87,12], [90,10], [85,10], [95,16], [75,7]])"
   ]
  },
  {
   "cell_type": "code",
   "execution_count": 24,
   "id": "19ea56c5",
   "metadata": {
    "ExecuteTime": {
     "end_time": "2021-11-28T07:19:07.750927Z",
     "start_time": "2021-11-28T07:19:07.717562Z"
    }
   },
   "outputs": [],
   "source": [
    "# convert F to C\n",
    "tmp_ice[:,:1] = np.round(scipy.constants.convert_temperature(tmp_ice[:,:1], 'f', 'c'))"
   ]
  },
  {
   "cell_type": "code",
   "execution_count": 27,
   "id": "11d0f9d7",
   "metadata": {
    "ExecuteTime": {
     "end_time": "2021-11-28T07:21:19.697432Z",
     "start_time": "2021-11-28T07:21:19.690544Z"
    }
   },
   "outputs": [
    {
     "data": {
      "text/plain": [
       "array([[21.06666667, 14.33333333],\n",
       "       [14.33333333, 11.46666667]])"
      ]
     },
     "execution_count": 27,
     "metadata": {},
     "output_type": "execute_result"
    }
   ],
   "source": [
    "# numpy coveriance function, returns: The covariance matrix of the variables.\n",
    "np.cov(tmp_ice, rowvar=False)"
   ]
  },
  {
   "cell_type": "markdown",
   "id": "4a7261c3",
   "metadata": {},
   "source": [
    "The coveriance matrix results to a positive relationship"
   ]
  },
  {
   "cell_type": "code",
   "execution_count": 37,
   "id": "014e488b",
   "metadata": {
    "ExecuteTime": {
     "end_time": "2021-11-28T07:26:46.307011Z",
     "start_time": "2021-11-28T07:26:46.296046Z"
    }
   },
   "outputs": [
    {
     "data": {
      "text/plain": [
       "array([[1.        , 0.92221184],\n",
       "       [0.92221184, 1.        ]])"
      ]
     },
     "execution_count": 37,
     "metadata": {},
     "output_type": "execute_result"
    }
   ],
   "source": [
    "# numpy correlation coeffient: matrix\n",
    "np.corrcoef(tmp_ice[:,:1].flatten(),tmp_ice[:,1:].flatten(), rowvar=True)"
   ]
  },
  {
   "cell_type": "markdown",
   "id": "e4265893",
   "metadata": {},
   "source": [
    "pearson r = 0.922"
   ]
  },
  {
   "cell_type": "code",
   "execution_count": 47,
   "id": "93a0e29e",
   "metadata": {
    "ExecuteTime": {
     "end_time": "2021-11-28T07:37:00.257390Z",
     "start_time": "2021-11-28T07:37:00.249283Z"
    }
   },
   "outputs": [
    {
     "data": {
      "text/plain": [
       "(0.9222118430947978, 0.008841148066232036)"
      ]
     },
     "execution_count": 47,
     "metadata": {},
     "output_type": "execute_result"
    }
   ],
   "source": [
    "# same correlation described with Scipy's Stats library:\n",
    "# Pearson correlation coefficient and p-value for testing non-correlation.\n",
    "stats.pearsonr(tmp_ice[:,:1].flatten(), tmp_ice[:,1:].flatten())"
   ]
  },
  {
   "cell_type": "markdown",
   "id": "6705ed17",
   "metadata": {},
   "source": [
    "First value is the Pearson correlation and second one is the p-value.  \n",
    "The calculation of the p-value relies on the assumption that each dataset is normally distributed."
   ]
  },
  {
   "cell_type": "code",
   "execution_count": 44,
   "id": "3e7b03f7",
   "metadata": {
    "ExecuteTime": {
     "end_time": "2021-11-28T07:33:41.763724Z",
     "start_time": "2021-11-28T07:33:41.340298Z"
    }
   },
   "outputs": [
    {
     "data": {
      "image/png": "[encoded data removed]",
      "text/plain": [
       "<Figure size 360x360 with 1 Axes>"
      ]
     },
     "metadata": {
      "needs_background": "light"
     },
     "output_type": "display_data"
    }
   ],
   "source": [
    "sns.lmplot(data=pd.DataFrame(tmp_ice, columns=[\"Temp\", \"Icecream Sold\"]), x='Temp', y='Icecream Sold');"
   ]
  },
  {
   "cell_type": "markdown",
   "id": "2c353522",
   "metadata": {},
   "source": [
    "There is a positive correlation (0.922) between temperature and ice creams sold."
   ]
  },
  {
   "cell_type": "markdown",
   "id": "0d06267b",
   "metadata": {},
   "source": [
    "."
   ]
  },
  {
   "cell_type": "markdown",
   "id": "02ae3354",
   "metadata": {},
   "source": [
    "<span style=\"font-size:large; color:blue\">\n",
    "Price vs. units sold\n",
    "</span>"
   ]
  },
  {
   "cell_type": "code",
   "execution_count": 38,
   "id": "a16050bc",
   "metadata": {
    "ExecuteTime": {
     "end_time": "2021-11-28T07:28:59.179267Z",
     "start_time": "2021-11-28T07:28:59.146943Z"
    }
   },
   "outputs": [],
   "source": [
    "# given [price, units_sold] array\n",
    "usd_unitsold=np.array([[10,55], [11,57],[15,49],[19,48],[22,39]])"
   ]
  },
  {
   "cell_type": "code",
   "execution_count": 39,
   "id": "109b504a",
   "metadata": {
    "ExecuteTime": {
     "end_time": "2021-11-28T07:29:32.500218Z",
     "start_time": "2021-11-28T07:29:32.443155Z"
    }
   },
   "outputs": [],
   "source": [
    "# convert np array to pandas\n",
    "df_usd_unitsold = pd.DataFrame(usd_unitsold, columns=['USD', 'Units Sold'])"
   ]
  },
  {
   "cell_type": "code",
   "execution_count": 40,
   "id": "730b2cea",
   "metadata": {
    "ExecuteTime": {
     "end_time": "2021-11-28T07:30:16.432963Z",
     "start_time": "2021-11-28T07:30:16.333124Z"
    }
   },
   "outputs": [
    {
     "data": {
      "text/html": [
       "<div>\n",
       "<style scoped>\n",
       "    .dataframe tbody tr th:only-of-type {\n",
       "        vertical-align: middle;\n",
       "    }\n",
       "\n",
       "    .dataframe tbody tr th {\n",
       "        vertical-align: top;\n",
       "    }\n",
       "\n",
       "    .dataframe thead th {\n",
       "        text-align: right;\n",
       "    }\n",
       "</style>\n",
       "<table border=\"1\" class=\"dataframe\">\n",
       "  <thead>\n",
       "    <tr style=\"text-align: right;\">\n",
       "      <th></th>\n",
       "      <th>USD</th>\n",
       "      <th>Units Sold</th>\n",
       "    </tr>\n",
       "  </thead>\n",
       "  <tbody>\n",
       "    <tr>\n",
       "      <th>USD</th>\n",
       "      <td>1.000</td>\n",
       "      <td>-0.948</td>\n",
       "    </tr>\n",
       "    <tr>\n",
       "      <th>Units Sold</th>\n",
       "      <td>-0.948</td>\n",
       "      <td>1.000</td>\n",
       "    </tr>\n",
       "  </tbody>\n",
       "</table>\n",
       "</div>"
      ],
      "text/plain": [
       "              USD  Units Sold\n",
       "USD         1.000      -0.948\n",
       "Units Sold -0.948       1.000"
      ]
     },
     "execution_count": 40,
     "metadata": {},
     "output_type": "execute_result"
    }
   ],
   "source": [
    "# pandas corr function takes care of the coeffient\n",
    "df_usd_unitsold.corr()"
   ]
  },
  {
   "cell_type": "code",
   "execution_count": 43,
   "id": "b885df81",
   "metadata": {
    "ExecuteTime": {
     "end_time": "2021-11-28T07:31:20.033298Z",
     "start_time": "2021-11-28T07:31:19.569553Z"
    }
   },
   "outputs": [
    {
     "data": {
      "image/png": "[encoded data removed]",
      "text/plain": [
       "<Figure size 360x360 with 1 Axes>"
      ]
     },
     "metadata": {
      "needs_background": "light"
     },
     "output_type": "display_data"
    }
   ],
   "source": [
    "# Seaborn lmplot: Plot data and regression model fits across a FacetGrid.\n",
    "sns.lmplot(data=df_usd_unitsold, x='USD', y='Units Sold');"
   ]
  },
  {
   "cell_type": "markdown",
   "id": "6e7df1ae",
   "metadata": {},
   "source": [
    "The negative correlation between price increase and units sold is fairly seen on the plot."
   ]
  },
  {
   "cell_type": "markdown",
   "id": "6970f280",
   "metadata": {},
   "source": [
    "."
   ]
  },
  {
   "cell_type": "markdown",
   "id": "eb5887ef",
   "metadata": {},
   "source": [
    "<span style=\"font-size:large; color:blue\">\n",
    "Vega Cars Dataset: Heatmap from dataframe\n",
    "</span>"
   ]
  },
  {
   "cell_type": "code",
   "execution_count": 48,
   "id": "fab0c578",
   "metadata": {
    "ExecuteTime": {
     "end_time": "2021-11-28T07:43:59.554666Z",
     "start_time": "2021-11-28T07:43:59.390172Z"
    }
   },
   "outputs": [],
   "source": [
    "# Vega cars dataset as pd dataframe\n",
    "cars = vds.cars()"
   ]
  },
  {
   "cell_type": "markdown",
   "id": "9f51756d",
   "metadata": {},
   "source": [
    "**Seaborn correlation Heatmap function with one side as triangle**"
   ]
  },
  {
   "cell_type": "code",
   "execution_count": 49,
   "id": "4012c29f",
   "metadata": {
    "ExecuteTime": {
     "end_time": "2021-11-28T07:45:38.079463Z",
     "start_time": "2021-11-28T07:45:38.051602Z"
    }
   },
   "outputs": [],
   "source": [
    "# Seaborn heatmap function\n",
    "def corrmap(df):\n",
    "    corr = df.corr()\n",
    "    mask = np.zeros_like(corr)\n",
    "    mask[np.triu_indices_from(mask)] = True\n",
    "\n",
    "    with sns.axes_style(\"white\"):\n",
    "        f, ax = plt.subplots(figsize=(7, 5))\n",
    "        ax = sns.heatmap(corr, mask=mask, square=True, cmap='YlGnBu', annot=True)"
   ]
  },
  {
   "cell_type": "code",
   "execution_count": 50,
   "id": "ce1e93a2",
   "metadata": {
    "ExecuteTime": {
     "end_time": "2021-11-28T07:45:50.639558Z",
     "start_time": "2021-11-28T07:45:50.111862Z"
    }
   },
   "outputs": [
    {
     "data": {
      "image/png": "[encoded data removed]",
      "text/plain": [
       "<Figure size 504x360 with 2 Axes>"
      ]
     },
     "metadata": {},
     "output_type": "display_data"
    }
   ],
   "source": [
    "corrmap(cars)"
   ]
  },
  {
   "cell_type": "markdown",
   "id": "7f0babef",
   "metadata": {},
   "source": [
    "There is a strong positive correlation between horsepower and Weight of the car.\n",
    "On the other hand, there is a strong negative correlation between Miles per galon and cylinders."
   ]
  },
  {
   "cell_type": "markdown",
   "id": "abb124c0",
   "metadata": {},
   "source": [
    "."
   ]
  },
  {
   "cell_type": "markdown",
   "id": "cdd0ccfa",
   "metadata": {},
   "source": [
    "<span style=\"font-size:large; color:blue\">\n",
    "Diamonds dataset from Seaborn: Pearson, Kendall and Spearman correlation comparisons\n",
    "</span>"
   ]
  },
  {
   "cell_type": "code",
   "execution_count": 57,
   "id": "4c5de754",
   "metadata": {
    "ExecuteTime": {
     "end_time": "2021-11-28T08:17:16.858898Z",
     "start_time": "2021-11-28T08:17:16.635598Z"
    }
   },
   "outputs": [],
   "source": [
    "# Seaborn diamonds dataset\n",
    "diamonds = sns.load_dataset('diamonds')"
   ]
  },
  {
   "cell_type": "code",
   "execution_count": 58,
   "id": "8d27df02",
   "metadata": {
    "ExecuteTime": {
     "end_time": "2021-11-28T08:17:27.338177Z",
     "start_time": "2021-11-28T08:17:27.176110Z"
    }
   },
   "outputs": [
    {
     "data": {
      "text/html": [
       "<div>\n",
       "<style scoped>\n",
       "    .dataframe tbody tr th:only-of-type {\n",
       "        vertical-align: middle;\n",
       "    }\n",
       "\n",
       "    .dataframe tbody tr th {\n",
       "        vertical-align: top;\n",
       "    }\n",
       "\n",
       "    .dataframe thead th {\n",
       "        text-align: right;\n",
       "    }\n",
       "</style>\n",
       "<table border=\"1\" class=\"dataframe\">\n",
       "  <thead>\n",
       "    <tr style=\"text-align: right;\">\n",
       "      <th></th>\n",
       "      <th>carat</th>\n",
       "      <th>depth</th>\n",
       "      <th>table</th>\n",
       "      <th>price</th>\n",
       "      <th>x</th>\n",
       "      <th>y</th>\n",
       "      <th>z</th>\n",
       "    </tr>\n",
       "  </thead>\n",
       "  <tbody>\n",
       "    <tr>\n",
       "      <th>count</th>\n",
       "      <td>53,940.000</td>\n",
       "      <td>53,940.000</td>\n",
       "      <td>53,940.000</td>\n",
       "      <td>53,940.000</td>\n",
       "      <td>53,940.000</td>\n",
       "      <td>53,940.000</td>\n",
       "      <td>53,940.000</td>\n",
       "    </tr>\n",
       "    <tr>\n",
       "      <th>mean</th>\n",
       "      <td>0.798</td>\n",
       "      <td>61.749</td>\n",
       "      <td>57.457</td>\n",
       "      <td>3,932.800</td>\n",
       "      <td>5.731</td>\n",
       "      <td>5.735</td>\n",
       "      <td>3.539</td>\n",
       "    </tr>\n",
       "    <tr>\n",
       "      <th>std</th>\n",
       "      <td>0.474</td>\n",
       "      <td>1.433</td>\n",
       "      <td>2.234</td>\n",
       "      <td>3,989.440</td>\n",
       "      <td>1.122</td>\n",
       "      <td>1.142</td>\n",
       "      <td>0.706</td>\n",
       "    </tr>\n",
       "    <tr>\n",
       "      <th>min</th>\n",
       "      <td>0.200</td>\n",
       "      <td>43.000</td>\n",
       "      <td>43.000</td>\n",
       "      <td>326.000</td>\n",
       "      <td>0.000</td>\n",
       "      <td>0.000</td>\n",
       "      <td>0.000</td>\n",
       "    </tr>\n",
       "    <tr>\n",
       "      <th>25%</th>\n",
       "      <td>0.400</td>\n",
       "      <td>61.000</td>\n",
       "      <td>56.000</td>\n",
       "      <td>950.000</td>\n",
       "      <td>4.710</td>\n",
       "      <td>4.720</td>\n",
       "      <td>2.910</td>\n",
       "    </tr>\n",
       "    <tr>\n",
       "      <th>50%</th>\n",
       "      <td>0.700</td>\n",
       "      <td>61.800</td>\n",
       "      <td>57.000</td>\n",
       "      <td>2,401.000</td>\n",
       "      <td>5.700</td>\n",
       "      <td>5.710</td>\n",
       "      <td>3.530</td>\n",
       "    </tr>\n",
       "    <tr>\n",
       "      <th>75%</th>\n",
       "      <td>1.040</td>\n",
       "      <td>62.500</td>\n",
       "      <td>59.000</td>\n",
       "      <td>5,324.250</td>\n",
       "      <td>6.540</td>\n",
       "      <td>6.540</td>\n",
       "      <td>4.040</td>\n",
       "    </tr>\n",
       "    <tr>\n",
       "      <th>max</th>\n",
       "      <td>5.010</td>\n",
       "      <td>79.000</td>\n",
       "      <td>95.000</td>\n",
       "      <td>18,823.000</td>\n",
       "      <td>10.740</td>\n",
       "      <td>58.900</td>\n",
       "      <td>31.800</td>\n",
       "    </tr>\n",
       "  </tbody>\n",
       "</table>\n",
       "</div>"
      ],
      "text/plain": [
       "           carat      depth      table      price          x          y  \\\n",
       "count 53,940.000 53,940.000 53,940.000 53,940.000 53,940.000 53,940.000   \n",
       "mean       0.798     61.749     57.457  3,932.800      5.731      5.735   \n",
       "std        0.474      1.433      2.234  3,989.440      1.122      1.142   \n",
       "min        0.200     43.000     43.000    326.000      0.000      0.000   \n",
       "25%        0.400     61.000     56.000    950.000      4.710      4.720   \n",
       "50%        0.700     61.800     57.000  2,401.000      5.700      5.710   \n",
       "75%        1.040     62.500     59.000  5,324.250      6.540      6.540   \n",
       "max        5.010     79.000     95.000 18,823.000     10.740     58.900   \n",
       "\n",
       "               z  \n",
       "count 53,940.000  \n",
       "mean       3.539  \n",
       "std        0.706  \n",
       "min        0.000  \n",
       "25%        2.910  \n",
       "50%        3.530  \n",
       "75%        4.040  \n",
       "max       31.800  "
      ]
     },
     "execution_count": 58,
     "metadata": {},
     "output_type": "execute_result"
    }
   ],
   "source": [
    "diamonds.describe()"
   ]
  },
  {
   "cell_type": "code",
   "execution_count": 59,
   "id": "0375996a",
   "metadata": {
    "ExecuteTime": {
     "end_time": "2021-11-28T08:18:17.691435Z",
     "start_time": "2021-11-28T08:18:17.672564Z"
    }
   },
   "outputs": [
    {
     "data": {
      "text/plain": [
       "(0.9215913011934771, 0.0)"
      ]
     },
     "execution_count": 59,
     "metadata": {},
     "output_type": "execute_result"
    }
   ],
   "source": [
    "# pearson corr\n",
    "stats.pearsonr(diamonds.carat, diamonds.price)"
   ]
  },
  {
   "cell_type": "code",
   "execution_count": 60,
   "id": "63744e62",
   "metadata": {
    "ExecuteTime": {
     "end_time": "2021-11-28T08:18:43.342279Z",
     "start_time": "2021-11-28T08:18:43.303631Z"
    }
   },
   "outputs": [
    {
     "data": {
      "text/plain": [
       "KendalltauResult(correlation=0.8341049107108127, pvalue=0.0)"
      ]
     },
     "execution_count": 60,
     "metadata": {},
     "output_type": "execute_result"
    }
   ],
   "source": [
    "# kendall corr\n",
    "stats.kendalltau(diamonds.carat, diamonds.price)"
   ]
  },
  {
   "cell_type": "code",
   "execution_count": 61,
   "id": "30bbdad2",
   "metadata": {
    "ExecuteTime": {
     "end_time": "2021-11-28T08:19:38.425233Z",
     "start_time": "2021-11-28T08:19:38.378464Z"
    }
   },
   "outputs": [
    {
     "data": {
      "text/plain": [
       "SpearmanrResult(correlation=0.9628827988813001, pvalue=0.0)"
      ]
     },
     "execution_count": 61,
     "metadata": {},
     "output_type": "execute_result"
    }
   ],
   "source": [
    "# spearman corr\n",
    "stats.spearmanr(diamonds.carat, diamonds.price)"
   ]
  },
  {
   "cell_type": "code",
   "execution_count": 69,
   "id": "5a44dce4",
   "metadata": {
    "ExecuteTime": {
     "end_time": "2021-11-28T08:23:49.979403Z",
     "start_time": "2021-11-28T08:23:46.028272Z"
    }
   },
   "outputs": [
    {
     "data": {
      "image/png": "[encoded data removed]",
      "text/plain": [
       "<Figure size 360x360 with 1 Axes>"
      ]
     },
     "metadata": {
      "needs_background": "light"
     },
     "output_type": "display_data"
    }
   ],
   "source": [
    "sns.lmplot(data=diamonds, x='carat', y='price');"
   ]
  },
  {
   "cell_type": "markdown",
   "id": "e3ba5451",
   "metadata": {},
   "source": [
    "Seaborn lm plot"
   ]
  },
  {
   "cell_type": "code",
   "execution_count": 68,
   "id": "f0fb7334",
   "metadata": {
    "ExecuteTime": {
     "end_time": "2021-11-28T08:23:20.265616Z",
     "start_time": "2021-11-28T08:23:19.734418Z"
    }
   },
   "outputs": [
    {
     "data": {
      "image/png": "[encoded data removed]",
      "text/plain": [
       "<Figure size 432x288 with 1 Axes>"
      ]
     },
     "metadata": {
      "needs_background": "light"
     },
     "output_type": "display_data"
    }
   ],
   "source": [
    "diamonds.plot.scatter('carat','price');"
   ]
  },
  {
   "cell_type": "markdown",
   "id": "29e2e238",
   "metadata": {},
   "source": [
    "Pandas scatter plot"
   ]
  },
  {
   "cell_type": "markdown",
   "id": "65480f7d",
   "metadata": {},
   "source": [
    "."
   ]
  },
  {
   "cell_type": "markdown",
   "id": "d38795cf",
   "metadata": {},
   "source": [
    "<span style='font-size:large; color:blue'>\n",
    "    Spearman correlation sample\n",
    "</span>"
   ]
  },
  {
   "cell_type": "code",
   "execution_count": 79,
   "id": "8e7abd17",
   "metadata": {
    "ExecuteTime": {
     "end_time": "2021-11-28T09:41:27.041141Z",
     "start_time": "2021-11-28T09:41:27.024460Z"
    }
   },
   "outputs": [
    {
     "data": {
      "text/html": [
       "<style  type=\"text/css\" >\n",
       "</style><table id=\"T_9288f_\" ><thead>    <tr>        <th class=\"col_heading level0 col0\" >x</th>        <th class=\"col_heading level0 col1\" >y</th>    </tr></thead><tbody>\n",
       "                <tr>\n",
       "                                <td id=\"T_9288f_row0_col0\" class=\"data row0 col0\" >2</td>\n",
       "                        <td id=\"T_9288f_row0_col1\" class=\"data row0 col1\" >21</td>\n",
       "            </tr>\n",
       "            <tr>\n",
       "                                <td id=\"T_9288f_row1_col0\" class=\"data row1 col0\" >5</td>\n",
       "                        <td id=\"T_9288f_row1_col1\" class=\"data row1 col1\" >17</td>\n",
       "            </tr>\n",
       "            <tr>\n",
       "                                <td id=\"T_9288f_row2_col0\" class=\"data row2 col0\" >8</td>\n",
       "                        <td id=\"T_9288f_row2_col1\" class=\"data row2 col1\" >14</td>\n",
       "            </tr>\n",
       "            <tr>\n",
       "                                <td id=\"T_9288f_row3_col0\" class=\"data row3 col0\" >11</td>\n",
       "                        <td id=\"T_9288f_row3_col1\" class=\"data row3 col1\" >10</td>\n",
       "            </tr>\n",
       "            <tr>\n",
       "                                <td id=\"T_9288f_row4_col0\" class=\"data row4 col0\" >15</td>\n",
       "                        <td id=\"T_9288f_row4_col1\" class=\"data row4 col1\" >5</td>\n",
       "            </tr>\n",
       "            <tr>\n",
       "                                <td id=\"T_9288f_row5_col0\" class=\"data row5 col0\" >16</td>\n",
       "                        <td id=\"T_9288f_row5_col1\" class=\"data row5 col1\" >3</td>\n",
       "            </tr>\n",
       "    </tbody></table>"
      ],
      "text/plain": [
       "<pandas.io.formats.style.Styler at 0x7f94ea9bcd90>"
      ]
     },
     "execution_count": 79,
     "metadata": {},
     "output_type": "execute_result"
    }
   ],
   "source": [
    "# we have x and y values\n",
    "# consider them as student scores\n",
    "scores = np.array([[2,21],[5,17],[8,14],[11,10],[15,5],[16,3]])\n",
    "# convert np array to pd\n",
    "scores = pd.DataFrame(scores, columns=['x','y'])\n",
    "scores.style.hide_index()"
   ]
  },
  {
   "cell_type": "code",
   "execution_count": 89,
   "id": "19e1e2f3",
   "metadata": {
    "ExecuteTime": {
     "end_time": "2021-11-28T09:43:50.907470Z",
     "start_time": "2021-11-28T09:43:50.889713Z"
    }
   },
   "outputs": [
    {
     "data": {
      "text/html": [
       "<style  type=\"text/css\" >\n",
       "</style><table id=\"T_86c81_\" ><thead>    <tr>        <th class=\"col_heading level0 col0\" >x</th>        <th class=\"col_heading level0 col1\" >y</th>    </tr></thead><tbody>\n",
       "                <tr>\n",
       "                                <td id=\"T_86c81_row0_col0\" class=\"data row0 col0\" >1</td>\n",
       "                        <td id=\"T_86c81_row0_col1\" class=\"data row0 col1\" >6</td>\n",
       "            </tr>\n",
       "            <tr>\n",
       "                                <td id=\"T_86c81_row1_col0\" class=\"data row1 col0\" >2</td>\n",
       "                        <td id=\"T_86c81_row1_col1\" class=\"data row1 col1\" >5</td>\n",
       "            </tr>\n",
       "            <tr>\n",
       "                                <td id=\"T_86c81_row2_col0\" class=\"data row2 col0\" >3</td>\n",
       "                        <td id=\"T_86c81_row2_col1\" class=\"data row2 col1\" >4</td>\n",
       "            </tr>\n",
       "            <tr>\n",
       "                                <td id=\"T_86c81_row3_col0\" class=\"data row3 col0\" >4</td>\n",
       "                        <td id=\"T_86c81_row3_col1\" class=\"data row3 col1\" >3</td>\n",
       "            </tr>\n",
       "            <tr>\n",
       "                                <td id=\"T_86c81_row4_col0\" class=\"data row4 col0\" >5</td>\n",
       "                        <td id=\"T_86c81_row4_col1\" class=\"data row4 col1\" >2</td>\n",
       "            </tr>\n",
       "            <tr>\n",
       "                                <td id=\"T_86c81_row5_col0\" class=\"data row5 col0\" >6</td>\n",
       "                        <td id=\"T_86c81_row5_col1\" class=\"data row5 col1\" >1</td>\n",
       "            </tr>\n",
       "    </tbody></table>"
      ],
      "text/plain": [
       "<pandas.io.formats.style.Styler at 0x7f94ea9ee820>"
      ]
     },
     "execution_count": 89,
     "metadata": {},
     "output_type": "execute_result"
    }
   ],
   "source": [
    "# rank the scores\n",
    "scores.rank().style.hide_index().set_precision(0)"
   ]
  },
  {
   "cell_type": "code",
   "execution_count": 90,
   "id": "2006fc61",
   "metadata": {
    "ExecuteTime": {
     "end_time": "2021-11-28T09:44:21.815145Z",
     "start_time": "2021-11-28T09:44:21.802532Z"
    }
   },
   "outputs": [
    {
     "data": {
      "text/html": [
       "<div>\n",
       "<style scoped>\n",
       "    .dataframe tbody tr th:only-of-type {\n",
       "        vertical-align: middle;\n",
       "    }\n",
       "\n",
       "    .dataframe tbody tr th {\n",
       "        vertical-align: top;\n",
       "    }\n",
       "\n",
       "    .dataframe thead th {\n",
       "        text-align: right;\n",
       "    }\n",
       "</style>\n",
       "<table border=\"1\" class=\"dataframe\">\n",
       "  <thead>\n",
       "    <tr style=\"text-align: right;\">\n",
       "      <th></th>\n",
       "      <th>x</th>\n",
       "      <th>y</th>\n",
       "    </tr>\n",
       "  </thead>\n",
       "  <tbody>\n",
       "    <tr>\n",
       "      <th>x</th>\n",
       "      <td>1.000</td>\n",
       "      <td>-1.000</td>\n",
       "    </tr>\n",
       "    <tr>\n",
       "      <th>y</th>\n",
       "      <td>-1.000</td>\n",
       "      <td>1.000</td>\n",
       "    </tr>\n",
       "  </tbody>\n",
       "</table>\n",
       "</div>"
      ],
      "text/plain": [
       "       x      y\n",
       "x  1.000 -1.000\n",
       "y -1.000  1.000"
      ]
     },
     "execution_count": 90,
     "metadata": {},
     "output_type": "execute_result"
    }
   ],
   "source": [
    "# pd corr function with method: spearman\n",
    "scores.corr(method='spearman')"
   ]
  },
  {
   "cell_type": "markdown",
   "id": "3151ec39",
   "metadata": {},
   "source": [
    "x and y are highly negative correlated"
   ]
  },
  {
   "cell_type": "markdown",
   "id": "14825b7b",
   "metadata": {},
   "source": [
    "."
   ]
  },
  {
   "cell_type": "code",
   "execution_count": 95,
   "id": "15c2d1fe",
   "metadata": {
    "ExecuteTime": {
     "end_time": "2021-11-28T09:45:48.261605Z",
     "start_time": "2021-11-28T09:45:48.247644Z"
    }
   },
   "outputs": [
    {
     "data": {
      "text/html": [
       "<div>\n",
       "<style scoped>\n",
       "    .dataframe tbody tr th:only-of-type {\n",
       "        vertical-align: middle;\n",
       "    }\n",
       "\n",
       "    .dataframe tbody tr th {\n",
       "        vertical-align: top;\n",
       "    }\n",
       "\n",
       "    .dataframe thead th {\n",
       "        text-align: right;\n",
       "    }\n",
       "</style>\n",
       "<table border=\"1\" class=\"dataframe\">\n",
       "  <thead>\n",
       "    <tr style=\"text-align: right;\">\n",
       "      <th></th>\n",
       "      <th>x</th>\n",
       "      <th>y</th>\n",
       "    </tr>\n",
       "  </thead>\n",
       "  <tbody>\n",
       "    <tr>\n",
       "      <th>x</th>\n",
       "      <td>1.000</td>\n",
       "      <td>-0.999</td>\n",
       "    </tr>\n",
       "    <tr>\n",
       "      <th>y</th>\n",
       "      <td>-0.999</td>\n",
       "      <td>1.000</td>\n",
       "    </tr>\n",
       "  </tbody>\n",
       "</table>\n",
       "</div>"
      ],
      "text/plain": [
       "       x      y\n",
       "x  1.000 -0.999\n",
       "y -0.999  1.000"
      ]
     },
     "execution_count": 95,
     "metadata": {},
     "output_type": "execute_result"
    }
   ],
   "source": [
    "# compare with Pearson rho\n",
    "scores.corr(method='pearson')"
   ]
  },
  {
   "cell_type": "markdown",
   "id": "54f41c6a",
   "metadata": {},
   "source": [
    "."
   ]
  },
  {
   "cell_type": "code",
   "execution_count": null,
   "id": "8c52c614",
   "metadata": {},
   "outputs": [],
   "source": []
  }
 ],
 "metadata": {
  "kernelspec": {
   "display_name": "OZ",
   "language": "python",
   "name": "oz"
  },
  "language_info": {
   "codemirror_mode": {
    "name": "ipython",
    "version": 3
   },
   "file_extension": ".py",
   "mimetype": "text/x-python",
   "name": "python",
   "nbconvert_exporter": "python",
   "pygments_lexer": "ipython3",
   "version": "3.8.2"
  }
 },
 "nbformat": 4,
 "nbformat_minor": 5
}
