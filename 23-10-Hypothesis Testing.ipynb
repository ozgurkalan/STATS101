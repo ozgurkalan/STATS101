{
 "cells": [
  {
   "cell_type": "markdown",
   "metadata": {},
   "source": [
    "# Hypothesis Testing"
   ]
  },
  {
   "cell_type": "code",
   "execution_count": 1,
   "metadata": {
    "ExecuteTime": {
     "end_time": "2021-12-12T10:09:30.704913Z",
     "start_time": "2021-12-12T10:09:26.207135Z"
    }
   },
   "outputs": [
    {
     "data": {
      "application/javascript": [
       "IPython.OutputArea.auto_scroll_threshold = 9999\n"
      ],
      "text/plain": [
       "<IPython.core.display.Javascript object>"
      ]
     },
     "metadata": {},
     "output_type": "display_data"
    },
    {
     "data": {
      "text/html": [
       "\n",
       "    <style>\n",
       "        div#notebook-container    { width: 97%; }\n",
       "        div#menubar-container     { width: 90%; }\n",
       "        div#maintoolbar-container { width: 90%; }\n",
       "    </style>\n",
       "    "
      ],
      "text/plain": [
       "<IPython.core.display.HTML object>"
      ]
     },
     "metadata": {},
     "output_type": "display_data"
    }
   ],
   "source": [
    "# environmental variables, settings and imports\n",
    "%run '000-env.ipynb'"
   ]
  },
  {
   "cell_type": "markdown",
   "metadata": {},
   "source": [
    "---"
   ]
  },
  {
   "cell_type": "markdown",
   "metadata": {},
   "source": [
    "Hypothesis testing is the use of statistics to determine the probability that a given hypothesis is true. \n"
   ]
  },
  {
   "cell_type": "markdown",
   "metadata": {},
   "source": [
    "two Hypothesis: *The Null Hypothesis* (denoted as H<sub>o</sub>) and the *Alternative Hypothesis* (denoted as H<sub>A</sub>). The Null Hypothesis is the hypothesis we are looking to test against the alternative hypothesis."
   ]
  },
  {
   "cell_type": "markdown",
   "metadata": {},
   "source": [
    "."
   ]
  },
  {
   "cell_type": "markdown",
   "metadata": {},
   "source": [
    "### Why Hypothesis Testing\n",
    "* Reframes our qualitative question (\"Is this difference real?\") into a mathematical question *(\"What is the probability that the difference I am observing is due to chance?\")*\n",
    "* Goal: reject the null hypothesis: _\"The two populations I am comparing are identical and the differences I observe are due to chance.\"_\n",
    "* We reject the null hypothesis by proving that the proving that it unlikely. _We do that by calculating the p-value (using a hypothesis test). We generally want_ $p < 0.05$"
   ]
  },
  {
   "cell_type": "markdown",
   "metadata": {},
   "source": [
    "\n",
    "."
   ]
  },
  {
   "cell_type": "markdown",
   "metadata": {},
   "source": [
    "Almost evert hypothesis test fits these situations:\n",
    "\n",
    "- H0: No effect  \n",
    "H1: Effect\n",
    "- H0: Regression variable insignificant  \n",
    "H1: Regression variable significant\n",
    "- H0: Intervention is effective  \n",
    "H1: Intervention is effective\n",
    "- H0: Diagnostic test is ineffective  \n",
    "H1: Diagnostic test is effective\n",
    "- H0: Group means are equal  \n",
    "H1: Group means are different"
   ]
  },
  {
   "cell_type": "markdown",
   "metadata": {},
   "source": [
    "\n",
    "- go conservative when defining the null hypothesis"
   ]
  },
  {
   "cell_type": "markdown",
   "metadata": {},
   "source": [
    "."
   ]
  },
  {
   "cell_type": "markdown",
   "metadata": {},
   "source": [
    "Hypothesis Testing can be broken into 10 basic steps.\n",
    "\n",
    "    1.) Data Testing\n",
    "    2.) Assumptions\n",
    "    3.) Hypothesis\n",
    "    4.) Test Statistic\n",
    "    5.) Distribution of Test Statistic\n",
    "    6.) Decision Rule\n",
    "    7.) Calculation of Test Statistic\n",
    "    8.) Statistical Decision\n",
    "    9.) Conclusion\n",
    "    10.) p-values"
   ]
  },
  {
   "cell_type": "markdown",
   "metadata": {},
   "source": [
    "."
   ]
  },
  {
   "cell_type": "markdown",
   "metadata": {},
   "source": [
    "## Decision: Siginificance Level\n",
    "\n",
    "Considering the distribution, we need to establish a significance level, usually denoted as alpha, α. Alpha is the probability of having a Null Hypothesis that is true, but our data shows is wrong. So alpha is the probability of rejecting a *true* Null Hypothesis. By convention, alpha is usually equal to 0.05 or 5%. This means that 5% of the time, we will falsely reject a true null hypothesis, this is best explained through a picture."
   ]
  },
  {
   "cell_type": "markdown",
   "metadata": {
    "ExecuteTime": {
     "end_time": "2021-12-12T10:32:40.162886Z",
     "start_time": "2021-12-12T10:32:38.567652Z"
    }
   },
   "source": [
    "<img align='center' width=600 src='data/shafer-fig08_004.jpg'>"
   ]
  },
  {
   "cell_type": "markdown",
   "metadata": {},
   "source": [
    "."
   ]
  },
  {
   "cell_type": "markdown",
   "metadata": {},
   "source": [
    "### Significant:\n",
    "An observed difference between two quantities is **probably not due to chance.**\n",
    "\n",
    "### _not_ significant:\n",
    "\n",
    "There is **not enough evidence** to say that an observed difference between two quantities is not random.\n",
    "\n",
    "OR\n",
    "\n",
    "If there is a difference, it is **smaller than we care** about."
   ]
  },
  {
   "cell_type": "markdown",
   "metadata": {},
   "source": [
    "."
   ]
  },
  {
   "cell_type": "markdown",
   "metadata": {},
   "source": [
    "## p-value\n",
    "    \n",
    "The [P value](http://en.wikipedia.org/wiki/P-value)  is the **estimated probability of rejecting the null hypothesis** of a study question when that null hypothesis is actually true. In other words, the P-value may be considered the probability of finding the observed, or more extreme, results when the null hypothesis is true – the definition of ‘extreme’ depends on how the hypothesis is being tested.\n",
    "\n",
    "*note: Since the p-value is used in Frequentist inference (and not Bayesian inference), it does not in itself support reasoning about the probabilities of hypotheses, but only as a tool for deciding whether to reject the null hypothesis in favor of the alternative hypothesis.*"
   ]
  },
  {
   "cell_type": "markdown",
   "metadata": {},
   "source": [
    "."
   ]
  },
  {
   "cell_type": "markdown",
   "metadata": {},
   "source": [
    "There are two main types of single-sample hypothesis tests:\n",
    "\n",
    "    1.) When the population standard deviation σ is known or given.\n",
    "    2.) When the population standard deviation σ is NOT known, and therefore we have to estimate \n",
    "    with s, the sample standard deviation.\n",
    "\n",
    "For Case 1, we use a normal (Z) distribution, for Case 2, we use the T-distribution."
   ]
  },
  {
   "cell_type": "markdown",
   "metadata": {},
   "source": [
    "."
   ]
  },
  {
   "cell_type": "markdown",
   "metadata": {},
   "source": [
    "### **Hypothesis Testing Options**\n",
    "\n",
    "<img src='data/hypothesis_testing_options.png' width=800 align='left'>"
   ]
  },
  {
   "cell_type": "markdown",
   "metadata": {},
   "source": [
    "."
   ]
  },
  {
   "cell_type": "markdown",
   "metadata": {},
   "source": [
    "## Type I and II errors"
   ]
  },
  {
   "cell_type": "markdown",
   "metadata": {},
   "source": [
    "Because $\\alpha$ is literally the probability of making a Type I error, and $\\beta$ is literally the probability of making a Type II error, \n",
    "\n",
    "we can say that the alpha level is\n",
    "* the probability of making the wrong decision when the null hypothesis is true, or\n",
    "* the probability of rejecting the null hypothesis when it’s true, or\n",
    "* the probability of making a Type I error\n",
    "\n",
    "and the beta level is\n",
    "* the probability of making the wrong decision when the null hypothesis is false, or\n",
    "* the probability of accepting the null hypothesis when it’s false, or\n",
    "* the probability of making a Type II error"
   ]
  },
  {
   "cell_type": "markdown",
   "metadata": {},
   "source": [
    "<img src='data/type_I_II_errors_03.png' width=500 align='left'>\n",
    "<img src='data/type_I_II_errors_02.png' width=500 align='left'>"
   ]
  },
  {
   "cell_type": "markdown",
   "metadata": {},
   "source": [
    "."
   ]
  },
  {
   "cell_type": "markdown",
   "metadata": {},
   "source": [
    "### Examples"
   ]
  },
  {
   "cell_type": "markdown",
   "metadata": {},
   "source": [
    "<span style='font-size:large;color:blue'>Stopping to smoke improve lung functions?</span>"
   ]
  },
  {
   "cell_type": "markdown",
   "metadata": {},
   "source": [
    "$H_0:$ No effect ($\\delta=0$)\n",
    "\n",
    "$H_1:$ Improves lung functions ($\\delta>0$)\n",
    "\n",
    "$\\delta: difference, delta$"
   ]
  },
  {
   "cell_type": "markdown",
   "metadata": {},
   "source": [
    "<img src=\"data/type_I_II_errors_01.png\" width=500 align='left'>"
   ]
  },
  {
   "cell_type": "markdown",
   "metadata": {},
   "source": [
    "."
   ]
  },
  {
   "cell_type": "markdown",
   "metadata": {},
   "source": [
    "## Resources"
   ]
  },
  {
   "cell_type": "code",
   "execution_count": 5,
   "metadata": {
    "ExecuteTime": {
     "end_time": "2021-12-12T11:09:21.201442Z",
     "start_time": "2021-12-12T11:09:19.805843Z"
    }
   },
   "outputs": [
    {
     "data": {
      "application/vnd.jupyter.widget-view+json": {
       "model_id": "9cb3e57b61ae4817a9334a1c74490ede",
       "version_major": 2,
       "version_minor": 0
      },
      "text/plain": [
       "GridspecLayout(children=(Output(layout=Layout(grid_area='widget001')), Output(layout=Layout(grid_area='widget0…"
      ]
     },
     "metadata": {},
     "output_type": "display_data"
    }
   ],
   "source": [
    "youGrid('8JIe_cz6qGA','dPXBN8ms-cU','CJvmp2gx7DQ')"
   ]
  },
  {
   "cell_type": "code",
   "execution_count": null,
   "metadata": {},
   "outputs": [],
   "source": []
  }
 ],
 "metadata": {
  "kernelspec": {
   "display_name": "OZ",
   "language": "python",
   "name": "oz"
  },
  "language_info": {
   "codemirror_mode": {
    "name": "ipython",
    "version": 3
   },
   "file_extension": ".py",
   "mimetype": "text/x-python",
   "name": "python",
   "nbconvert_exporter": "python",
   "pygments_lexer": "ipython3",
   "version": "3.8.2"
  }
 },
 "nbformat": 4,
 "nbformat_minor": 1
}
