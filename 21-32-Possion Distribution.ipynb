{
 "cells": [
  {
   "cell_type": "markdown",
   "id": "87a23eae",
   "metadata": {},
   "source": [
    "# Poisson Distribution"
   ]
  },
  {
   "cell_type": "code",
   "execution_count": 1,
   "id": "c8a4886f",
   "metadata": {
    "ExecuteTime": {
     "end_time": "2021-12-12T04:48:49.756537Z",
     "start_time": "2021-12-12T04:48:47.710205Z"
    }
   },
   "outputs": [
    {
     "data": {
      "application/javascript": [
       "IPython.OutputArea.auto_scroll_threshold = 9999\n"
      ],
      "text/plain": [
       "<IPython.core.display.Javascript object>"
      ]
     },
     "metadata": {},
     "output_type": "display_data"
    },
    {
     "data": {
      "text/html": [
       "\n",
       "    <style>\n",
       "        div#notebook-container    { width: 97%; }\n",
       "        div#menubar-container     { width: 90%; }\n",
       "        div#maintoolbar-container { width: 90%; }\n",
       "    </style>\n",
       "    "
      ],
      "text/plain": [
       "<IPython.core.display.HTML object>"
      ]
     },
     "metadata": {},
     "output_type": "display_data"
    }
   ],
   "source": [
    "# environmental variables, settings and imports\n",
    "%run '000-env.ipynb'"
   ]
  },
  {
   "cell_type": "markdown",
   "id": "d25b15a9",
   "metadata": {},
   "source": [
    "---"
   ]
  },
  {
   "cell_type": "markdown",
   "id": "2eec6b26",
   "metadata": {},
   "source": [
    "The **Poisson** probability distribution gives the probability of a number of events occurring in a *fixed interval* of time or space if these events happen *with a known average rate* and *independently* of the time since the last event. "
   ]
  },
  {
   "cell_type": "markdown",
   "id": "8b7bf746",
   "metadata": {},
   "source": [
    "The Poisson distribution may be used to approximate the binomial if the probability of success is “small” (such as 0.01) and the number of trials is “large” (such as 1,000). "
   ]
  },
  {
   "cell_type": "markdown",
   "id": "16c42bda",
   "metadata": {},
   "source": [
    "A Poisson distribution is a discrete distribution. Its shape is similar to the continuous Normal distribution but with some __skewness__. "
   ]
  },
  {
   "cell_type": "markdown",
   "id": "258fe474",
   "metadata": {},
   "source": [
    "* Discrete distribution\n",
    "* unlike binomial, no limit; bound by 0 and infinity\n",
    "* Describes the number of events in a fixed interval like time or region of opportunity\n",
    "* requires a $\\lambda$"
   ]
  },
  {
   "cell_type": "markdown",
   "id": "c0ad9b26",
   "metadata": {},
   "source": [
    "**assumptions**  \n",
    "* rate event occurring is constant\n",
    "* events are independent "
   ]
  },
  {
   "cell_type": "markdown",
   "id": "02db73cd",
   "metadata": {},
   "source": [
    "A discrete random variable X has a Poisson distribution with parameter λ if for k=0,1,2..,   \n",
    "the probability mass function of X is given by:"
   ]
  },
  {
   "cell_type": "markdown",
   "id": "667e42e9",
   "metadata": {},
   "source": [
    "$$Pr(X=k)=\\frac{\\lambda^ke^{-\\lambda}}{k!}$$"
   ]
  },
  {
   "cell_type": "markdown",
   "id": "db49beca",
   "metadata": {},
   "source": [
    "where e is Euler's number (e=2.718...) and k! is the factorial of k."
   ]
  },
  {
   "cell_type": "markdown",
   "id": "6d4ffc4c",
   "metadata": {},
   "source": [
    "The Poisson Distribution has the following characteristics:\n",
    "\n",
    "    1.) Discrete outcomes (x=0,1,2,3...)\n",
    "    2.) The number of occurrences can range from zero to infinity (theoretically). \n",
    "    3.) It describes the distribution of infrequent (rare) events.\n",
    "    4.) Each event is independent of the other events.\n",
    "    5.) Describes discrete events over an interval such as a time or distance.\n",
    "    6.) The expected number of occurrences E(X) are assumed to be constant throughout the experiment."
   ]
  },
  {
   "cell_type": "markdown",
   "id": "b805eb4a",
   "metadata": {},
   "source": [
    "mean is the $\\lambda$ and expected value $E(x)=\\lambda=Var(x)$"
   ]
  },
  {
   "cell_type": "markdown",
   "id": "eb6ef62b",
   "metadata": {},
   "source": [
    "."
   ]
  },
  {
   "cell_type": "markdown",
   "id": "a18a68ac",
   "metadata": {},
   "source": [
    "---"
   ]
  },
  {
   "cell_type": "markdown",
   "id": "9cadf734",
   "metadata": {},
   "source": [
    "## Resources"
   ]
  },
  {
   "cell_type": "code",
   "execution_count": 2,
   "id": "83dd37cf",
   "metadata": {
    "ExecuteTime": {
     "end_time": "2021-12-12T04:48:58.535285Z",
     "start_time": "2021-12-12T04:48:58.072352Z"
    }
   },
   "outputs": [
    {
     "data": {
      "application/vnd.jupyter.widget-view+json": {
       "model_id": "78e6076856db42d387bfca80c2e7d125",
       "version_major": 2,
       "version_minor": 0
      },
      "text/plain": [
       "GridspecLayout(children=(Output(layout=Layout(grid_area='widget001')),), layout=Layout(grid_template_areas='\"w…"
      ]
     },
     "metadata": {},
     "output_type": "display_data"
    }
   ],
   "source": [
    "youGrid(\"cPOChr_kuQs\")"
   ]
  },
  {
   "cell_type": "markdown",
   "id": "87eed574",
   "metadata": {},
   "source": [
    "---"
   ]
  },
  {
   "cell_type": "markdown",
   "id": "d3bc9f8e",
   "metadata": {},
   "source": [
    "## Sample Distribution Plot"
   ]
  },
  {
   "cell_type": "code",
   "execution_count": 2,
   "id": "f5d94189",
   "metadata": {
    "ExecuteTime": {
     "end_time": "2021-12-01T11:26:36.348182Z",
     "start_time": "2021-12-01T11:26:33.477320Z"
    }
   },
   "outputs": [
    {
     "data": {
      "image/png": "[encoded data removed]",
      "text/plain": [
       "<Figure size 720x288 with 2 Axes>"
      ]
     },
     "metadata": {
      "needs_background": "light"
     },
     "output_type": "display_data"
    }
   ],
   "source": [
    "mu = 5\n",
    "\n",
    "np.random.seed(27)\n",
    "\n",
    "# random variables for Poisson Distribution\n",
    "x = stats.poisson(mu=mu).rvs(1000)\n",
    "\n",
    "fig, (ax1, ax2) = plt.subplots(1, 2, figsize=(10,4))\n",
    "\n",
    "# bar plot for the PMF\n",
    "ax1.bar(x, stats.poisson(mu=mu).pmf(x), color=COLOR1)\n",
    "ax1.set_xticks(np.arange(0,11));\n",
    "ax1.set_ylabel(\"Probability Mass Function\");\n",
    "ax1.set_xlabel(\"$\\lambda=5$\")\n",
    "ax1.set_title(\"Poisson Distribution\", fontdict={\"fontweight\":\"bold\", \"color\":\"green\"});\n",
    "\n",
    "\n",
    "# hist plot for CDF\n",
    "ax2.hist(x, cumulative=True, alpha=0.5, bins=4, color=COLOR4, edgecolor=COLOR1, linewidth=3)\n",
    "ax2.set_title(\"Poisson Cummulative Function\", fontdict={\"fontweight\":\"bold\", \"color\":\"darkblue\"});\n",
    "ax2.set_xlabel(\"$\\lambda=5$\");\n",
    "ax2.set_ylabel(\"CDF\");\n",
    "\n",
    "fig.suptitle(\"Poisson Distribution\\n\", fontdict={\"fontweight\":\"bold\", \"color\":\"darkred\"}, fontsize=15);\n",
    "fig.tight_layout(pad=1.5)"
   ]
  },
  {
   "cell_type": "markdown",
   "id": "18b58aa7",
   "metadata": {},
   "source": [
    "..."
   ]
  },
  {
   "cell_type": "markdown",
   "id": "a6167a06",
   "metadata": {},
   "source": [
    "## Examples"
   ]
  },
  {
   "cell_type": "markdown",
   "id": "771e477e",
   "metadata": {},
   "source": [
    "<span style=\"font-size:large; color:blue;font-weight:bold\">\n",
    "    A wine company puts ad in Facebook and observe a mean of 12 of click-through sales with a Poisson Distribution\n",
    "</span>"
   ]
  },
  {
   "cell_type": "markdown",
   "id": "c0df1275",
   "metadata": {},
   "source": [
    "<i>! this may not be really a Poisson Distribution, where the rate of of events occurring expected to be constant. Let's say, would a customer buy a wine at 6 am?</i>"
   ]
  },
  {
   "cell_type": "markdown",
   "id": "e4145b1b",
   "metadata": {},
   "source": [
    "<span style=\"font-size:large; color:blue\">\n",
    "(a) Exactly 10 clik-through sales in the first day\n",
    "</span>"
   ]
  },
  {
   "cell_type": "code",
   "execution_count": 3,
   "id": "cb107588",
   "metadata": {
    "ExecuteTime": {
     "end_time": "2021-12-01T11:26:36.373355Z",
     "start_time": "2021-12-01T11:26:36.358887Z"
    }
   },
   "outputs": [
    {
     "data": {
      "text/plain": [
       "0.10483725588365922"
      ]
     },
     "execution_count": 3,
     "metadata": {},
     "output_type": "execute_result"
    }
   ],
   "source": [
    "stats.poisson(mu=12).pmf(10)"
   ]
  },
  {
   "cell_type": "markdown",
   "id": "8b840b7d",
   "metadata": {},
   "source": [
    "<span style=\"font-size:large; color:blue\">\n",
    "(b) At least 10 clik-through sales in the first day\n",
    "</span>"
   ]
  },
  {
   "cell_type": "markdown",
   "id": "79e15682",
   "metadata": {},
   "source": [
    "Survival Function; 1-cdf for covering left-side\n",
    "$k >= 10$ or $(1 - k<=9)$"
   ]
  },
  {
   "cell_type": "code",
   "execution_count": 4,
   "id": "49f13c76",
   "metadata": {
    "ExecuteTime": {
     "end_time": "2021-12-01T11:26:36.400911Z",
     "start_time": "2021-12-01T11:26:36.377553Z"
    }
   },
   "outputs": [
    {
     "data": {
      "text/plain": [
       "0.7576078383294875"
      ]
     },
     "execution_count": 4,
     "metadata": {},
     "output_type": "execute_result"
    }
   ],
   "source": [
    "stats.poisson(mu=12).sf(9)"
   ]
  },
  {
   "cell_type": "markdown",
   "id": "6d6004a9",
   "metadata": {},
   "source": [
    "<span style=\"font-size:large; color:blue\">\n",
    "(c) More than one sales in the first hour\n",
    "</span>"
   ]
  },
  {
   "cell_type": "markdown",
   "id": "2ce54bb6",
   "metadata": {},
   "source": [
    "first hour mean ($\\lambda$) = 12/24  \n",
    "more than 1 sales is 1 - left-side (0,1) => sf(1) $=>$ $<1$"
   ]
  },
  {
   "cell_type": "code",
   "execution_count": 5,
   "id": "24fba98d",
   "metadata": {
    "ExecuteTime": {
     "end_time": "2021-12-01T11:26:36.427975Z",
     "start_time": "2021-12-01T11:26:36.410929Z"
    }
   },
   "outputs": [
    {
     "data": {
      "text/plain": [
       "0.09020401043104986"
      ]
     },
     "execution_count": 5,
     "metadata": {},
     "output_type": "execute_result"
    }
   ],
   "source": [
    "stats.poisson(mu=12/24).sf(1)"
   ]
  },
  {
   "cell_type": "markdown",
   "id": "3578cee1",
   "metadata": {},
   "source": [
    ".\n",
    "\n",
    "---"
   ]
  },
  {
   "cell_type": "markdown",
   "id": "5a788ab9",
   "metadata": {},
   "source": [
    "<span style=\"font-size:large; color:blue;font-weight:bold\">\n",
    "McDonald's has a lunch rush  from 12:30pm to 1:00pm. From looking at customer sales from previous days, we know that on average 10 customers enter during 12:30pm to 1:00pm. \n",
    "</span>"
   ]
  },
  {
   "cell_type": "markdown",
   "id": "cbd17e08",
   "metadata": {},
   "source": [
    "<span style=\"font-size:large;color:blue\">What is the probability that *exactly* 7 customers enter during lunch rush? What is the probability that *more than* 10 customers arrive? </span>"
   ]
  },
  {
   "cell_type": "markdown",
   "id": "88a35ae6",
   "metadata": {},
   "source": [
    "Let's begin by thinking about how many customers we expect to come into McDonald's during lunch rush. Well we were actually already given that information, it's 10. This means that the mean is 10, then our expected value E(X)=10. In the Poisson distribution this is λ. So the mean = λ for a Poisson Distribution, it is the expected number of occurences over the specfied interval."
   ]
  },
  {
   "cell_type": "markdown",
   "id": "197b7209",
   "metadata": {},
   "source": [
    "<span style=\"font-size:large; color:blue\">\n",
    "What is the probability that exactly 7 customers enter during lunch rush?\n",
    "</span>"
   ]
  },
  {
   "cell_type": "code",
   "execution_count": 6,
   "id": "1cbf48dd",
   "metadata": {
    "ExecuteTime": {
     "end_time": "2021-12-01T11:26:36.461303Z",
     "start_time": "2021-12-01T11:26:36.442886Z"
    }
   },
   "outputs": [
    {
     "data": {
      "text/plain": [
       "0.090079225719216"
      ]
     },
     "execution_count": 6,
     "metadata": {},
     "output_type": "execute_result"
    }
   ],
   "source": [
    "mu=10\n",
    "stats.poisson(mu=mu).pmf(7)"
   ]
  },
  {
   "cell_type": "code",
   "execution_count": 7,
   "id": "cb521eb2",
   "metadata": {
    "ExecuteTime": {
     "end_time": "2021-12-01T11:26:36.547391Z",
     "start_time": "2021-12-01T11:26:36.475429Z"
    }
   },
   "outputs": [
    {
     "data": {
      "text/plain": [
       "(4.0, 17.0)"
      ]
     },
     "execution_count": 7,
     "metadata": {},
     "output_type": "execute_result"
    }
   ],
   "source": [
    "stats.poisson(mu=mu).interval(0.95)"
   ]
  },
  {
   "cell_type": "code",
   "execution_count": 8,
   "id": "b7997970",
   "metadata": {
    "ExecuteTime": {
     "end_time": "2021-12-01T11:26:36.994803Z",
     "start_time": "2021-12-01T11:26:36.574629Z"
    }
   },
   "outputs": [
    {
     "data": {
      "image/png": "[encoded data removed]",
      "text/plain": [
       "<Figure size 432x288 with 1 Axes>"
      ]
     },
     "metadata": {
      "needs_background": "light"
     },
     "output_type": "display_data"
    }
   ],
   "source": [
    "n = np.arange(20)\n",
    "\n",
    "plt.bar(n, stats.poisson(mu=mu).pmf(n), color=COLOR3);"
   ]
  },
  {
   "cell_type": "markdown",
   "id": "0200111b",
   "metadata": {},
   "source": [
    "<span style=\"font-size:large; color:blue\">\n",
    "What is the probability that more than 10 customers arrive? \n",
    "</span>"
   ]
  },
  {
   "cell_type": "markdown",
   "id": "19687abd",
   "metadata": {},
   "source": [
    "We need to sum up the value of every bar past 10 the 10 customers bar."
   ]
  },
  {
   "cell_type": "code",
   "execution_count": 15,
   "id": "781338a5",
   "metadata": {
    "ExecuteTime": {
     "end_time": "2021-12-01T11:27:41.275194Z",
     "start_time": "2021-12-01T11:27:41.265263Z"
    }
   },
   "outputs": [
    {
     "data": {
      "text/plain": [
       "0.5830397501929852"
      ]
     },
     "execution_count": 15,
     "metadata": {},
     "output_type": "execute_result"
    }
   ],
   "source": [
    "# The probability that 10 or less customers show up\n",
    "stats.poisson(mu=mu).cdf(10)"
   ]
  },
  {
   "cell_type": "code",
   "execution_count": 14,
   "id": "0fe591ba",
   "metadata": {
    "ExecuteTime": {
     "end_time": "2021-12-01T11:27:13.633499Z",
     "start_time": "2021-12-01T11:27:13.623091Z"
    }
   },
   "outputs": [
    {
     "data": {
      "text/plain": [
       "0.41696024980701485"
      ]
     },
     "execution_count": 14,
     "metadata": {},
     "output_type": "execute_result"
    }
   ],
   "source": [
    "# more than 10 customers\n",
    "stats.poisson(mu=mu).sf(10)"
   ]
  },
  {
   "cell_type": "markdown",
   "id": "0687efe9",
   "metadata": {},
   "source": [
    "."
   ]
  },
  {
   "cell_type": "markdown",
   "id": "d97e2c74",
   "metadata": {},
   "source": [
    "<span style=\"font-size:large; color:blue\">Leah’s answering machine receives about six telephone calls between 8 a.m. and 10 a.m. What is the probability that Leah receives more than one call in the next 15 minutes?</span>"
   ]
  },
  {
   "cell_type": "code",
   "execution_count": 27,
   "id": "8743d6b0",
   "metadata": {
    "ExecuteTime": {
     "end_time": "2021-12-01T11:37:11.800787Z",
     "start_time": "2021-12-01T11:37:11.793020Z"
    }
   },
   "outputs": [
    {
     "data": {
      "text/plain": [
       "0.75"
      ]
     },
     "execution_count": 27,
     "metadata": {},
     "output_type": "execute_result"
    }
   ],
   "source": [
    "# avarage call per 15 min.\n",
    "mu = (6/120)*15; mu"
   ]
  },
  {
   "cell_type": "code",
   "execution_count": 36,
   "id": "2c67d943",
   "metadata": {
    "ExecuteTime": {
     "end_time": "2021-12-01T11:39:38.615104Z",
     "start_time": "2021-12-01T11:39:38.602170Z"
    }
   },
   "outputs": [
    {
     "data": {
      "text/plain": [
       "0.17335853270322427"
      ]
     },
     "execution_count": 36,
     "metadata": {},
     "output_type": "execute_result"
    }
   ],
   "source": [
    "# more than one call in 15 min.\n",
    "stats.poisson(mu=mu).sf(1)"
   ]
  },
  {
   "cell_type": "code",
   "execution_count": null,
   "id": "2dc77515",
   "metadata": {},
   "outputs": [],
   "source": []
  }
 ],
 "metadata": {
  "kernelspec": {
   "display_name": "OZ",
   "language": "python",
   "name": "oz"
  },
  "language_info": {
   "codemirror_mode": {
    "name": "ipython",
    "version": 3
   },
   "file_extension": ".py",
   "mimetype": "text/x-python",
   "name": "python",
   "nbconvert_exporter": "python",
   "pygments_lexer": "ipython3",
   "version": "3.8.2"
  }
 },
 "nbformat": 4,
 "nbformat_minor": 5
}
