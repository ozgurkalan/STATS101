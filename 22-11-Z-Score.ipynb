{
 "cells": [
  {
   "cell_type": "markdown",
   "id": "12d849a5",
   "metadata": {},
   "source": [
    "# Z-Score"
   ]
  },
  {
   "cell_type": "code",
   "execution_count": 1,
   "id": "b92df7b5",
   "metadata": {
    "ExecuteTime": {
     "end_time": "2021-12-06T10:30:48.301303Z",
     "start_time": "2021-12-06T10:30:42.889542Z"
    },
    "scrolled": true
   },
   "outputs": [
    {
     "data": {
      "application/javascript": [
       "IPython.OutputArea.auto_scroll_threshold = 9999\n"
      ],
      "text/plain": [
       "<IPython.core.display.Javascript object>"
      ]
     },
     "metadata": {},
     "output_type": "display_data"
    },
    {
     "data": {
      "text/html": [
       "\n",
       "    <style>\n",
       "        div#notebook-container    { width: 97%; }\n",
       "        div#menubar-container     { width: 90%; }\n",
       "        div#maintoolbar-container { width: 90%; }\n",
       "    </style>\n",
       "    "
      ],
      "text/plain": [
       "<IPython.core.display.HTML object>"
      ]
     },
     "metadata": {},
     "output_type": "display_data"
    }
   ],
   "source": [
    "# environmental variables, settings and imports\n",
    "%run '000-env.ipynb'"
   ]
  },
  {
   "cell_type": "markdown",
   "id": "ac71a08f",
   "metadata": {},
   "source": [
    "---"
   ]
  },
  {
   "cell_type": "markdown",
   "id": "cf9c6985",
   "metadata": {},
   "source": [
    "**z–value**, also known as **z-score**, is a measure of standard deviations. it measures how many standard deviations the observed value is away from the mean in a normal distribution."
   ]
  },
  {
   "cell_type": "markdown",
   "id": "030fa999",
   "metadata": {},
   "source": [
    "We’ll look up the z-score in a **z-table**, which is a table that takes the number of standard deviations and tells us the percentage of the area under the curve up to that point."
   ]
  },
  {
   "cell_type": "markdown",
   "id": "0cdd513c",
   "metadata": {},
   "source": [
    "A z-score is unusual if it’s further than three standard deviations from the mean.  \n",
    "Essentially the z-score tells us the percentile rank of the data point that we started with."
   ]
  },
  {
   "cell_type": "markdown",
   "id": "020d4200",
   "metadata": {},
   "source": [
    "**Z-score** is standardized and does not take units, measurement scales etc in consideration."
   ]
  },
  {
   "cell_type": "markdown",
   "id": "4cf34330",
   "metadata": {},
   "source": [
    "It defines a point between standard variations located by an initial value ($\\mu$) increased/decreased by a scale ($\\sigma$)"
   ]
  },
  {
   "cell_type": "markdown",
   "id": "0ca55483",
   "metadata": {},
   "source": [
    "---"
   ]
  },
  {
   "cell_type": "markdown",
   "id": "4a5b1259",
   "metadata": {},
   "source": [
    "## Resources"
   ]
  },
  {
   "cell_type": "markdown",
   "id": "c5be5cbe",
   "metadata": {
    "ExecuteTime": {
     "end_time": "2021-12-06T10:31:40.304356Z",
     "start_time": "2021-12-06T10:31:39.987905Z"
    }
   },
   "source": [
    "[Understanding z-scores - Brandon Foltz - YouTube Video](https://youtu.be/bUu5HIHIrRw)"
   ]
  },
  {
   "cell_type": "markdown",
   "id": "edf922dd",
   "metadata": {},
   "source": [
    "https://courses.lumenlearning.com/introstats1/chapter/using-the-normal-distribution/"
   ]
  },
  {
   "cell_type": "markdown",
   "id": "432dcb51",
   "metadata": {},
   "source": [
    "."
   ]
  },
  {
   "cell_type": "markdown",
   "id": "24ab6c2e",
   "metadata": {},
   "source": [
    "## Examples"
   ]
  },
  {
   "cell_type": "markdown",
   "id": "6a157a70",
   "metadata": {},
   "source": [
    "<span style=\"font-size:large;color:blue\">\n",
    "The mean finishing time for male speed skaters at the winter Olympics on the 500 meter track is 70.42 seconds,\n",
    "with a standard deviation of 0.34 seconds (the data is normally distributed).   \n",
    "\n",
    "What is the maximum time a skater can post if he wants to skate faster than 95% of his competitors?\n",
    "</span>"
   ]
  },
  {
   "cell_type": "code",
   "execution_count": 15,
   "id": "aae4069a",
   "metadata": {
    "ExecuteTime": {
     "end_time": "2021-12-06T11:13:08.213076Z",
     "start_time": "2021-12-06T11:13:08.207205Z"
    }
   },
   "outputs": [],
   "source": [
    "# meand and std\n",
    "mu, sigma = 70.42, 0.34"
   ]
  },
  {
   "cell_type": "code",
   "execution_count": 22,
   "id": "7c021745",
   "metadata": {
    "ExecuteTime": {
     "end_time": "2021-12-06T11:19:44.552366Z",
     "start_time": "2021-12-06T11:19:44.540677Z"
    }
   },
   "outputs": [
    {
     "data": {
      "text/plain": [
       "-1.6448536269514729"
      ]
     },
     "execution_count": 22,
     "metadata": {},
     "output_type": "execute_result"
    }
   ],
   "source": [
    "# z-score at 5% of point\n",
    "z = stats.norm.ppf(.05)\n",
    "z"
   ]
  },
  {
   "cell_type": "markdown",
   "id": "16bc46af",
   "metadata": {},
   "source": [
    "This athlete wants to be faster than 95 % of the event’s participants, which means he wants his time to be in the fastest 5 % . "
   ]
  },
  {
   "cell_type": "markdown",
   "id": "f04decf7",
   "metadata": {},
   "source": [
    "as the time decreases, chance to win increases, so we wish to stay in the negative tail..."
   ]
  },
  {
   "cell_type": "markdown",
   "id": "1e521e0e",
   "metadata": {},
   "source": [
    "$Z = $$x-\\mu \\over \\sigma$"
   ]
  },
  {
   "cell_type": "code",
   "execution_count": 60,
   "id": "5b30c14a",
   "metadata": {
    "ExecuteTime": {
     "end_time": "2021-12-07T05:33:08.265892Z",
     "start_time": "2021-12-07T05:33:08.235290Z"
    }
   },
   "outputs": [
    {
     "data": {
      "text/plain": [
       "69.8607497668365"
      ]
     },
     "execution_count": 60,
     "metadata": {},
     "output_type": "execute_result"
    }
   ],
   "source": [
    "# fastest 5%\n",
    "Z=stats.norm.ppf(q=.05, loc=mu, scale=sigma)\n",
    "Z"
   ]
  },
  {
   "cell_type": "markdown",
   "id": "766edd7b",
   "metadata": {},
   "source": [
    "if the skater’s time is 69.859 seconds or faster, he’ll be within the fastest 5 % of finishers in the event."
   ]
  },
  {
   "cell_type": "code",
   "execution_count": 52,
   "id": "a0c21710",
   "metadata": {
    "ExecuteTime": {
     "end_time": "2021-12-07T05:24:30.735589Z",
     "start_time": "2021-12-07T05:24:30.668772Z"
    }
   },
   "outputs": [],
   "source": [
    "# grab 100 numbers between 1% and 99% quantiles\n",
    "x = np.linspace(stats.norm.ppf(q=.01, loc=mu, scale=sigma),\n",
    "                stats.norm.ppf(q=.99, loc=mu, scale=sigma), 100)\n",
    "\n",
    "# PDF for the distribution\n",
    "y = stats.norm.pdf(x=x, loc=mu, scale=sigma)"
   ]
  },
  {
   "cell_type": "code",
   "execution_count": 92,
   "id": "a2a48ecd",
   "metadata": {
    "ExecuteTime": {
     "end_time": "2021-12-07T05:48:05.148936Z",
     "start_time": "2021-12-07T05:48:04.725707Z"
    }
   },
   "outputs": [
    {
     "data": {
      "image/png": "[encoded data removed]",
      "text/plain": [
       "<Figure size 576x288 with 1 Axes>"
      ]
     },
     "metadata": {
      "needs_background": "light"
     },
     "output_type": "display_data"
    }
   ],
   "source": [
    "fig, ax = plt.subplots(figsize=(8,4))\n",
    "\n",
    "ax.fill_between(x,y,where=(x<Z), alpha=.5)\n",
    "ax.text(0.1,0.1,\"Z\", fontsize=12, transform=ax.transAxes, color='r')\n",
    "\n",
    "ax.set_title('Z-score for athlete faster than 95% of his competitors')\n",
    "ax.set_ylabel('PDF(x)'); ax.set_xlabel('x')\n",
    "\n",
    "ax.plot(x,y); plt.show();"
   ]
  },
  {
   "cell_type": "markdown",
   "id": "d5c1bb15",
   "metadata": {},
   "source": [
    "."
   ]
  },
  {
   "cell_type": "markdown",
   "id": "8b0d8003",
   "metadata": {},
   "source": [
    "<span style=\"font-size:large;color:blue;font-weight:bold\">\n",
    "    The final exam scores in a statistics class were normally distributed with a mean of 63 and a standard deviation of 5.\n",
    "</span>"
   ]
  },
  {
   "cell_type": "markdown",
   "id": "3be06c0e",
   "metadata": {},
   "source": [
    "$\\mu=63$, $\\sigma=5$"
   ]
  },
  {
   "cell_type": "code",
   "execution_count": 100,
   "id": "cdec69d4",
   "metadata": {
    "ExecuteTime": {
     "end_time": "2021-12-07T05:57:37.901329Z",
     "start_time": "2021-12-07T05:57:37.896064Z"
    }
   },
   "outputs": [],
   "source": [
    "# mean and std\n",
    "mu, sigma = 63,5"
   ]
  },
  {
   "cell_type": "markdown",
   "id": "a356344d",
   "metadata": {},
   "source": [
    "<span style=\"font-size:large;color:blue\">\n",
    "the probability that a randomly selected student scored more than 65 on the exam.\n",
    "</span>"
   ]
  },
  {
   "cell_type": "code",
   "execution_count": 102,
   "id": "64a0a016",
   "metadata": {
    "ExecuteTime": {
     "end_time": "2021-12-07T06:00:04.091293Z",
     "start_time": "2021-12-07T06:00:04.067180Z"
    }
   },
   "outputs": [
    {
     "data": {
      "text/plain": [
       "0.3445782583896758"
      ]
     },
     "execution_count": 102,
     "metadata": {},
     "output_type": "execute_result"
    }
   ],
   "source": [
    "# survival function => SF = 1-CDF\n",
    "stats.norm.sf(x=65, loc=mu, scale=sigma)"
   ]
  },
  {
   "cell_type": "markdown",
   "id": "3d6b4847",
   "metadata": {},
   "source": [
    "There is 34.45% probability to score >65"
   ]
  },
  {
   "cell_type": "code",
   "execution_count": 142,
   "id": "222e62ea",
   "metadata": {
    "ExecuteTime": {
     "end_time": "2021-12-07T06:25:29.864085Z",
     "start_time": "2021-12-07T06:25:29.601301Z"
    }
   },
   "outputs": [
    {
     "data": {
      "image/png": "[encoded data removed]",
      "text/plain": [
       "<Figure size 576x216 with 1 Axes>"
      ]
     },
     "metadata": {
      "needs_background": "light"
     },
     "output_type": "display_data"
    }
   ],
   "source": [
    "# grab 300 scores between 1% and 99% quantiles\n",
    "x = np.linspace(stats.norm.ppf(q=.001, loc=mu, scale=sigma),\n",
    "                stats.norm.ppf(q=.999, loc=mu, scale=sigma), 300)\n",
    "# PDF of each random score\n",
    "y = stats.norm.pdf(loc=mu, scale=sigma, x=x)\n",
    "\n",
    "# prepare for plot\n",
    "fig, ax = plt.subplots(figsize=(8,3))\n",
    "\n",
    "# vertical line through the score 65\n",
    "ax.vlines(x=65, ymin=np.min(y), ymax=stats.norm.pdf(65,mu,sigma), linestyles='dotted', colors='r')\n",
    "\n",
    "# fill the porbability area >65\n",
    "ax.fill_between(x,y, where=(x>65), alpha=0.6)\n",
    "ax.text(0.6,0.4, \"> 65\", transform=ax.transAxes, color='w', fontsize=12)\n",
    "\n",
    "# plot\n",
    "ax.plot(x,y);plt.show();"
   ]
  },
  {
   "cell_type": "markdown",
   "id": "bee2a820",
   "metadata": {},
   "source": [
    "."
   ]
  },
  {
   "cell_type": "markdown",
   "id": "10ff946f",
   "metadata": {},
   "source": [
    "<span style=\"font-size:large;color:blue\">\n",
    "the probability that a randomly selected student scored less than 85.\n",
    "</span>"
   ]
  },
  {
   "cell_type": "code",
   "execution_count": 144,
   "id": "42b3fdcd",
   "metadata": {
    "ExecuteTime": {
     "end_time": "2021-12-07T06:27:05.477725Z",
     "start_time": "2021-12-07T06:27:05.468174Z"
    }
   },
   "outputs": [
    {
     "data": {
      "text/plain": [
       "0.9999945874560923"
      ]
     },
     "execution_count": 144,
     "metadata": {},
     "output_type": "execute_result"
    }
   ],
   "source": [
    "# CDF = < 85\n",
    "stats.norm.cdf(85,mu,sigma)"
   ]
  },
  {
   "cell_type": "markdown",
   "id": "98f9224e",
   "metadata": {},
   "source": [
    "scoring less than 85 is almost 100%"
   ]
  },
  {
   "cell_type": "markdown",
   "id": "1dfbe116",
   "metadata": {},
   "source": [
    "."
   ]
  },
  {
   "cell_type": "markdown",
   "id": "f017895f",
   "metadata": {},
   "source": [
    "<span style=\"font-size:large;color:blue\">\n",
    "the 90th percentile (that is, find the score k that has 90% of the scores below k and 10% of the scores above k).\n",
    "</span>"
   ]
  },
  {
   "cell_type": "code",
   "execution_count": 145,
   "id": "1326307d",
   "metadata": {
    "ExecuteTime": {
     "end_time": "2021-12-07T06:27:59.334789Z",
     "start_time": "2021-12-07T06:27:59.326647Z"
    }
   },
   "outputs": [
    {
     "data": {
      "text/plain": [
       "69.407757827723"
      ]
     },
     "execution_count": 145,
     "metadata": {},
     "output_type": "execute_result"
    }
   ],
   "source": [
    "#PPF\n",
    "stats.norm.ppf(.9, mu, sigma)"
   ]
  },
  {
   "cell_type": "markdown",
   "id": "6dac5bc7",
   "metadata": {},
   "source": [
    "around 69.4 points is the 90th percentile"
   ]
  },
  {
   "cell_type": "markdown",
   "id": "f0e89ee3",
   "metadata": {},
   "source": [
    "."
   ]
  },
  {
   "cell_type": "markdown",
   "id": "b45ce3fd",
   "metadata": {},
   "source": [
    "<span style=\"font-size:large;color:blue\">\n",
    "the 70th percentile (that is, find the score k such that 70% of scores are below k and 30% of the scores are above k).\n",
    "</span>"
   ]
  },
  {
   "cell_type": "code",
   "execution_count": 146,
   "id": "5cd39f2f",
   "metadata": {
    "ExecuteTime": {
     "end_time": "2021-12-07T06:29:25.926100Z",
     "start_time": "2021-12-07T06:29:25.906149Z"
    }
   },
   "outputs": [
    {
     "data": {
      "text/plain": [
       "65.6220025635402"
      ]
     },
     "execution_count": 146,
     "metadata": {},
     "output_type": "execute_result"
    }
   ],
   "source": [
    "#PPF\n",
    "stats.norm.ppf(.7, mu, sigma)"
   ]
  },
  {
   "cell_type": "markdown",
   "id": "d04b39d9",
   "metadata": {},
   "source": [
    "."
   ]
  },
  {
   "cell_type": "code",
   "execution_count": null,
   "id": "4825cb06",
   "metadata": {},
   "outputs": [],
   "source": []
  }
 ],
 "metadata": {
  "kernelspec": {
   "display_name": "OZ",
   "language": "python",
   "name": "oz"
  },
  "language_info": {
   "codemirror_mode": {
    "name": "ipython",
    "version": 3
   },
   "file_extension": ".py",
   "mimetype": "text/x-python",
   "name": "python",
   "nbconvert_exporter": "python",
   "pygments_lexer": "ipython3",
   "version": "3.8.2"
  }
 },
 "nbformat": 4,
 "nbformat_minor": 5
}
