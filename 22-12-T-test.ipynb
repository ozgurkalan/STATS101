{
 "cells": [
  {
   "cell_type": "markdown",
   "metadata": {},
   "source": [
    "# T-test"
   ]
  },
  {
   "cell_type": "code",
   "execution_count": 1,
   "metadata": {
    "ExecuteTime": {
     "end_time": "2021-12-12T04:52:35.824539Z",
     "start_time": "2021-12-12T04:52:32.629630Z"
    }
   },
   "outputs": [
    {
     "data": {
      "application/javascript": [
       "IPython.OutputArea.auto_scroll_threshold = 9999\n"
      ],
      "text/plain": [
       "<IPython.core.display.Javascript object>"
      ]
     },
     "metadata": {},
     "output_type": "display_data"
    },
    {
     "data": {
      "text/html": [
       "\n",
       "    <style>\n",
       "        div#notebook-container    { width: 97%; }\n",
       "        div#menubar-container     { width: 90%; }\n",
       "        div#maintoolbar-container { width: 90%; }\n",
       "    </style>\n",
       "    "
      ],
      "text/plain": [
       "<IPython.core.display.HTML object>"
      ]
     },
     "metadata": {},
     "output_type": "display_data"
    }
   ],
   "source": [
    "# environmental variables, settings and imports\n",
    "%run '000-env.ipynb'"
   ]
  },
  {
   "cell_type": "markdown",
   "metadata": {},
   "source": [
    "---"
   ]
  },
  {
   "cell_type": "markdown",
   "metadata": {},
   "source": [
    "For previous distributions the sample size was assumed large (N>30). T Distribution aka **Student Distribution** is for sample sizes that are less than 30 **(N<30)**."
   ]
  },
  {
   "cell_type": "markdown",
   "metadata": {},
   "source": [
    "The t-distribution allows for use of small samples, but does so by sacrificing certainty with a margin-of-error trade-off. The t-distribution takes into account the sample size using **n-1 degrees of freedom**, which means there is a different t-distribution for every different sample size. If we see the t-distribution against a normal distribution, you'll notice the tail ends increase as the peak get 'squished' down. \n",
    "\n",
    "...as n gets larger, the t-distribution converges into a normal distribution."
   ]
  },
  {
   "cell_type": "markdown",
   "metadata": {},
   "source": [
    "Let's define a new variable called t, where\n",
    ":\n",
    "$$t=\\frac{\\overline{X}-\\mu}{s}\\sqrt{N-1}=\\frac{\\overline{X}-\\mu}{s/\\sqrt{N}}$$"
   ]
  },
  {
   "cell_type": "markdown",
   "metadata": {},
   "source": [
    "which is analogous to the z statistic given by $$z=\\frac{\\overline{X}-\\mu}{\\sigma/\\sqrt{N}}$$"
   ]
  },
  {
   "cell_type": "markdown",
   "metadata": {},
   "source": [
    "The sampling distribution for t can be obtained:"
   ]
  },
  {
   "cell_type": "markdown",
   "metadata": {
    "collapsed": true
   },
   "source": [
    "## $$  f(t) = \\frac {\\varGamma(\\frac{v+1}{2})}{\\sqrt{v\\pi}\\varGamma(\\frac{v}{2})} (1+\\frac{t^2}{v})^{-\\frac{v+1}{2}}$$"
   ]
  },
  {
   "cell_type": "markdown",
   "metadata": {},
   "source": [
    "Where the gamma function is: $$\\varGamma(n)=(n-1)!$$"
   ]
  },
  {
   "cell_type": "markdown",
   "metadata": {},
   "source": [
    "And v is the number of degrees of freedom, typically equal to N-1. "
   ]
  },
  {
   "cell_type": "markdown",
   "metadata": {},
   "source": [
    "Similar to a z-score table used with a normal distribution, a t-distribution uses a t-table. Knowing the degrees of freedom and the desired cumulative probability (e.g. P(T >= t) ) we can find the value of t. Here is an example of a lookup table for a t-distribution: "
   ]
  },
  {
   "cell_type": "markdown",
   "metadata": {},
   "source": [
    "http://www.sjsu.edu/faculty/gerstman/StatPrimer/t-table.pdf\n"
   ]
  },
  {
   "cell_type": "markdown",
   "metadata": {},
   "source": [
    "## One-sample T-test"
   ]
  },
  {
   "cell_type": "markdown",
   "metadata": {},
   "source": [
    "Tests the null hypothesis that the population mean is equal to a specified value $\\mu$ based on a sample mean $\\bar{x}$  \n",
    "\n",
    "This is a parametric test that determines whether a computed mean or statistical mean is similar to the observed mean."
   ]
  },
  {
   "cell_type": "markdown",
   "metadata": {},
   "source": [
    "."
   ]
  },
  {
   "cell_type": "markdown",
   "metadata": {},
   "source": [
    "[scipy.stats.ttest_1samp()](https://docs.scipy.org/doc/scipy/reference/generated/scipy.stats.ttest_1samp.html#scipy.stats.ttest_1samp) tests if the **population mean of data is likely to be equal to a given value** (technically if observations are drawn from a Gaussian distributions of given population mean). It returns the T statistic, and the p-value"
   ]
  },
  {
   "cell_type": "markdown",
   "metadata": {},
   "source": [
    "."
   ]
  },
  {
   "cell_type": "markdown",
   "metadata": {},
   "source": [
    "## Two-sample T-test"
   ]
  },
  {
   "cell_type": "markdown",
   "metadata": {},
   "source": [
    "Independent two samples tests the null hypothesis that two sample means $\\bar{x}_1$ and $\\bar{x}_2$ are equal.  \n",
    "\n",
    "Compares the mean of two independent samples to gather statistical evidence for determining the difference or similarity between the groups."
   ]
  },
  {
   "cell_type": "markdown",
   "metadata": {},
   "source": [
    "."
   ]
  },
  {
   "cell_type": "markdown",
   "metadata": {},
   "source": [
    "An example with male and female populations which were different. To test if this is significant, we do a 2-sample t-test with [scipy.stats.ttest_ind()](https://docs.scipy.org/doc/scipy/reference/generated/scipy.stats.ttest_ind.html#scipy.stats.ttest_ind)"
   ]
  },
  {
   "cell_type": "markdown",
   "metadata": {},
   "source": [
    "."
   ]
  },
  {
   "cell_type": "markdown",
   "metadata": {},
   "source": [
    "## Paired T-test"
   ]
  },
  {
   "cell_type": "markdown",
   "metadata": {},
   "source": [
    "Also known as the **Dependent Sample** test, it is used to determine whether there is a similarity between two groups of observations or samples.   \n",
    "\n",
    "In this test, each feature or entity is calculated twice, generating a pair of observations for hypothesis testing."
   ]
  },
  {
   "cell_type": "markdown",
   "metadata": {},
   "source": [
    "."
   ]
  },
  {
   "cell_type": "markdown",
   "metadata": {},
   "source": [
    "repeated measurements on the same individuals. \n",
    "\n",
    "The problem with this approach is that it forgets that there are links between observations. Thus the variance due to inter-subject variability is confounding, and can be removed, using a **“paired test”**, or **“repeated measures test”**"
   ]
  },
  {
   "cell_type": "markdown",
   "metadata": {},
   "source": [
    "[scipy.stats.ttest_rel()](https://docs.scipy.org/doc/scipy/reference/generated/scipy.stats.ttest_rel.html?highlight=ttest_rel#scipy.stats.ttest_rel)"
   ]
  },
  {
   "cell_type": "markdown",
   "metadata": {},
   "source": [
    "."
   ]
  },
  {
   "cell_type": "markdown",
   "metadata": {},
   "source": [
    "## Wilcoxon signed-rank test"
   ]
  },
  {
   "cell_type": "markdown",
   "metadata": {},
   "source": [
    "T-tests assume Gaussian errors. We can use a Wilcoxon signed-rank test, that relaxes this assumption:  \n",
    "\n",
    "[scipy.stats.wilcoxon](https://docs.scipy.org/doc/scipy/reference/generated/scipy.stats.wilcoxon.html?highlight=wilcoxon#scipy.stats.wilcoxon)"
   ]
  },
  {
   "cell_type": "markdown",
   "metadata": {},
   "source": [
    "## Mann–Whitney U test"
   ]
  },
  {
   "cell_type": "markdown",
   "metadata": {},
   "source": [
    "The corresponding test in the non paired case is the Mann–Whitney U test."
   ]
  },
  {
   "cell_type": "markdown",
   "metadata": {},
   "source": [
    "[scipy.stats.mannwhitneyu()](https://docs.scipy.org/doc/scipy/reference/generated/scipy.stats.mannwhitneyu.html#scipy.stats.mannwhitneyu)"
   ]
  },
  {
   "cell_type": "markdown",
   "metadata": {},
   "source": [
    "."
   ]
  },
  {
   "cell_type": "markdown",
   "metadata": {},
   "source": [
    "---"
   ]
  },
  {
   "cell_type": "markdown",
   "metadata": {},
   "source": [
    "## Resources"
   ]
  },
  {
   "cell_type": "markdown",
   "metadata": {},
   "source": [
    "http://www.scipy-lectures.org/packages/statistics/index.html"
   ]
  },
  {
   "cell_type": "markdown",
   "metadata": {},
   "source": [
    "."
   ]
  },
  {
   "cell_type": "code",
   "execution_count": 2,
   "metadata": {
    "ExecuteTime": {
     "end_time": "2021-12-12T04:52:42.147312Z",
     "start_time": "2021-12-12T04:52:41.406631Z"
    }
   },
   "outputs": [
    {
     "data": {
      "application/vnd.jupyter.widget-view+json": {
       "model_id": "4faa6dd2ef874ce58c3b3438f731d37e",
       "version_major": 2,
       "version_minor": 0
      },
      "text/plain": [
       "GridspecLayout(children=(Output(layout=Layout(grid_area='widget001')), Output(layout=Layout(grid_area='widget0…"
      ]
     },
     "metadata": {},
     "output_type": "display_data"
    }
   ],
   "source": [
    "youGrid('UetYS3PaHIo', 'yaSgoGLXKOg')"
   ]
  },
  {
   "cell_type": "markdown",
   "metadata": {},
   "source": [
    "."
   ]
  },
  {
   "cell_type": "markdown",
   "metadata": {},
   "source": [
    "---"
   ]
  },
  {
   "cell_type": "markdown",
   "metadata": {
    "ExecuteTime": {
     "end_time": "2021-12-08T05:03:32.535283Z",
     "start_time": "2021-12-08T05:03:32.527477Z"
    }
   },
   "source": [
    "## Examples"
   ]
  },
  {
   "cell_type": "markdown",
   "metadata": {},
   "source": [
    "<span style=\"font-size:large;color:blue\">\n",
    "A sample distribution plot:\n",
    "</span>"
   ]
  },
  {
   "cell_type": "code",
   "execution_count": 3,
   "metadata": {
    "ExecuteTime": {
     "end_time": "2021-12-08T05:04:16.734338Z",
     "start_time": "2021-12-08T05:04:16.433195Z"
    }
   },
   "outputs": [
    {
     "data": {
      "image/png": "[encoded data removed]",
      "text/plain": [
       "<Figure size 432x288 with 1 Axes>"
      ]
     },
     "metadata": {
      "needs_background": "light"
     },
     "output_type": "display_data"
    }
   ],
   "source": [
    "# Create x range\n",
    "x = np.linspace(-5,5,100)\n",
    "\n",
    "# Create the t distribution with scipy\n",
    "rv = stats.t(3)\n",
    "\n",
    "# Plot the PDF versus the x range\n",
    "plt.plot(x, rv.pdf(x))\n",
    "plt.show()"
   ]
  },
  {
   "cell_type": "markdown",
   "metadata": {},
   "source": [
    "."
   ]
  },
  {
   "cell_type": "markdown",
   "metadata": {},
   "source": [
    "<span style=\"font-size:large;color:blue;font-weight:bold\">\n",
    "One-sample T-test\n",
    "</span>"
   ]
  },
  {
   "cell_type": "markdown",
   "metadata": {},
   "source": [
    "<span style=\"font-size:large;color:blue;font-weight:bold\">\n",
    "A car company claims that its Sedan averages 31 mpg. You randomly select eight Sedan from local car dealerships and test their gas mileage under similar conditions. \n",
    "    \n",
    "You get the following mpg scores:\n",
    "MPG: 30 28 32 26 33 25 28 30\n",
    "</span>"
   ]
  },
  {
   "cell_type": "markdown",
   "metadata": {},
   "source": [
    "<span style=\"font-size:large;color:blue\">\n",
    "Does the actual gas mileage for these cars deviate significantly from 31 (alpha=.05)?\n",
    "</span>"
   ]
  },
  {
   "cell_type": "markdown",
   "metadata": {},
   "source": [
    "$H_0$ = Cars do not differ in average = ($\\mu = \\mu_0$)  \n",
    "\n",
    "$H_A$ = Cars differ in average = ($\\mu \\neq \\mu_0$) "
   ]
  },
  {
   "cell_type": "code",
   "execution_count": 16,
   "metadata": {
    "ExecuteTime": {
     "end_time": "2021-12-08T06:39:58.584351Z",
     "start_time": "2021-12-08T06:39:58.568572Z"
    }
   },
   "outputs": [],
   "source": [
    "# samples assigned to a var\n",
    "mpg = np.array([30, 28, 32, 26, 33, 25, 28, 30])\n",
    "n = len(mpg)\n",
    "mu = 31\n",
    "alpha = .05"
   ]
  },
  {
   "cell_type": "code",
   "execution_count": 27,
   "metadata": {
    "ExecuteTime": {
     "end_time": "2021-12-08T06:53:46.181183Z",
     "start_time": "2021-12-08T06:53:46.153925Z"
    }
   },
   "outputs": [
    {
     "data": {
      "text/plain": [
       "Ttest_1sampResult(statistic=-2.0367003088692623, pvalue=0.0811068697473857)"
      ]
     },
     "execution_count": 27,
     "metadata": {},
     "output_type": "execute_result"
    }
   ],
   "source": [
    "# T-test for the mean of ONE group of scores with Scipy\n",
    "stats.ttest_1samp(a=mpg, # Sample observation\n",
    "                  popmean=mu, # Expected value in null hypothesis\n",
    "                  alternative='two-sided' # Defines the alternative hypothesis.\n",
    "                 )"
   ]
  },
  {
   "cell_type": "markdown",
   "metadata": {},
   "source": [
    "p-value is greater than alpha; \n",
    "\n",
    "we can conclude that cars differ in their average mileage, as the evidence supports this hypothesis"
   ]
  },
  {
   "cell_type": "markdown",
   "metadata": {},
   "source": [
    "."
   ]
  },
  {
   "cell_type": "markdown",
   "metadata": {},
   "source": [
    "<span style=\"font-size:large;color:blue;font-weight:bold\">\n",
    "A car company has two plants: A and B with given daily production over the same 10 days.\n",
    "</span>"
   ]
  },
  {
   "cell_type": "markdown",
   "metadata": {},
   "source": [
    "<span style=\"font-size:large;color:blue;font-weight:normal\">\n",
    "The company wants to know if there’s a significant difference in production between the two plants.\n",
    "</span>"
   ]
  },
  {
   "cell_type": "code",
   "execution_count": 41,
   "metadata": {
    "ExecuteTime": {
     "end_time": "2021-12-08T07:18:40.192804Z",
     "start_time": "2021-12-08T07:18:40.175957Z"
    }
   },
   "outputs": [],
   "source": [
    "# Daily production over the same 10 days of two car producing plants A and B\n",
    "prod = pd.DataFrame([[1184,1136],[1203,1178],[1219,1212],[1238,1193],[1243,1226],[1204,1154],[1269,1230],[1256,1222],[1156,1161],[1248,1148]],\n",
    "            columns=[\"PlantA\",\"PlantB\"])"
   ]
  },
  {
   "cell_type": "code",
   "execution_count": 46,
   "metadata": {
    "ExecuteTime": {
     "end_time": "2021-12-08T07:22:49.173760Z",
     "start_time": "2021-12-08T07:22:49.114427Z"
    }
   },
   "outputs": [
    {
     "data": {
      "text/html": [
       "<div>\n",
       "<style scoped>\n",
       "    .dataframe tbody tr th:only-of-type {\n",
       "        vertical-align: middle;\n",
       "    }\n",
       "\n",
       "    .dataframe tbody tr th {\n",
       "        vertical-align: top;\n",
       "    }\n",
       "\n",
       "    .dataframe thead th {\n",
       "        text-align: right;\n",
       "    }\n",
       "</style>\n",
       "<table border=\"1\" class=\"dataframe\">\n",
       "  <thead>\n",
       "    <tr style=\"text-align: right;\">\n",
       "      <th></th>\n",
       "      <th>PlantA</th>\n",
       "      <th>PlantB</th>\n",
       "    </tr>\n",
       "  </thead>\n",
       "  <tbody>\n",
       "    <tr>\n",
       "      <th>count</th>\n",
       "      <td>10.000</td>\n",
       "      <td>10.000</td>\n",
       "    </tr>\n",
       "    <tr>\n",
       "      <th>mean</th>\n",
       "      <td>1,222.000</td>\n",
       "      <td>1,186.000</td>\n",
       "    </tr>\n",
       "    <tr>\n",
       "      <th>std</th>\n",
       "      <td>35.327</td>\n",
       "      <td>35.299</td>\n",
       "    </tr>\n",
       "    <tr>\n",
       "      <th>min</th>\n",
       "      <td>1,156.000</td>\n",
       "      <td>1,136.000</td>\n",
       "    </tr>\n",
       "    <tr>\n",
       "      <th>25%</th>\n",
       "      <td>1,203.250</td>\n",
       "      <td>1,155.750</td>\n",
       "    </tr>\n",
       "    <tr>\n",
       "      <th>50%</th>\n",
       "      <td>1,228.500</td>\n",
       "      <td>1,185.500</td>\n",
       "    </tr>\n",
       "    <tr>\n",
       "      <th>75%</th>\n",
       "      <td>1,246.750</td>\n",
       "      <td>1,219.500</td>\n",
       "    </tr>\n",
       "    <tr>\n",
       "      <th>max</th>\n",
       "      <td>1,269.000</td>\n",
       "      <td>1,230.000</td>\n",
       "    </tr>\n",
       "  </tbody>\n",
       "</table>\n",
       "</div>"
      ],
      "text/plain": [
       "         PlantA    PlantB\n",
       "count    10.000    10.000\n",
       "mean  1,222.000 1,186.000\n",
       "std      35.327    35.299\n",
       "min   1,156.000 1,136.000\n",
       "25%   1,203.250 1,155.750\n",
       "50%   1,228.500 1,185.500\n",
       "75%   1,246.750 1,219.500\n",
       "max   1,269.000 1,230.000"
      ]
     },
     "execution_count": 46,
     "metadata": {},
     "output_type": "execute_result"
    }
   ],
   "source": [
    "# describe the plant data, esp. means\n",
    "prod.describe()"
   ]
  },
  {
   "cell_type": "markdown",
   "metadata": {},
   "source": [
    "one-tailed test:  \n",
    "\n",
    "\n",
    "$H_0 = X_A <= X_B$  \n",
    "\n",
    "$H_A = X_A > X_B$"
   ]
  },
  {
   "cell_type": "code",
   "execution_count": 48,
   "metadata": {
    "ExecuteTime": {
     "end_time": "2021-12-08T07:26:57.907499Z",
     "start_time": "2021-12-08T07:26:57.873208Z"
    }
   },
   "outputs": [
    {
     "data": {
      "text/plain": [
       "18"
      ]
     },
     "execution_count": 48,
     "metadata": {},
     "output_type": "execute_result"
    }
   ],
   "source": [
    "# degrees of freedom\n",
    "dof = prod.PlantA.count()+prod.PlantB.count() - 2\n",
    "dof"
   ]
  },
  {
   "cell_type": "code",
   "execution_count": 50,
   "metadata": {
    "ExecuteTime": {
     "end_time": "2021-12-08T07:28:27.940016Z",
     "start_time": "2021-12-08T07:28:27.926731Z"
    }
   },
   "outputs": [
    {
     "data": {
      "text/plain": [
       "1.7340636066175354"
      ]
     },
     "execution_count": 50,
     "metadata": {},
     "output_type": "execute_result"
    }
   ],
   "source": [
    "# t critical value with 95% confidence for 18 dof\n",
    "t_critical = stats.t.ppf(.95, dof)\n",
    "t_critical"
   ]
  },
  {
   "cell_type": "code",
   "execution_count": 56,
   "metadata": {
    "ExecuteTime": {
     "end_time": "2021-12-08T07:31:11.684519Z",
     "start_time": "2021-12-08T07:31:11.662127Z"
    }
   },
   "outputs": [
    {
     "name": "stdout",
     "output_type": "stream",
     "text": [
      "t-value: 2.2795770510504845 p-value: 0.03504505626727664\n"
     ]
    }
   ],
   "source": [
    "# t value\n",
    "tvalue, pvalue = stats.ttest_ind(a=prod.PlantA, b=prod.PlantB, alternative='two-sided')\n",
    "print('t-value:', tvalue, 'p-value:', pvalue)"
   ]
  },
  {
   "cell_type": "code",
   "execution_count": 57,
   "metadata": {
    "ExecuteTime": {
     "end_time": "2021-12-08T07:32:09.708206Z",
     "start_time": "2021-12-08T07:32:09.684571Z"
    }
   },
   "outputs": [
    {
     "data": {
      "text/plain": [
       "True"
      ]
     },
     "execution_count": 57,
     "metadata": {},
     "output_type": "execute_result"
    }
   ],
   "source": [
    "# compare t-value with t-critical\n",
    "tvalue > t_critical"
   ]
  },
  {
   "cell_type": "markdown",
   "metadata": {},
   "source": [
    "..than we reject the null hypothesis"
   ]
  },
  {
   "cell_type": "markdown",
   "metadata": {},
   "source": [
    "We believe with 95% confidence that Plant A produces more cars per day than Plant B.   \n",
    "We may decide to close Plant B."
   ]
  },
  {
   "cell_type": "markdown",
   "metadata": {},
   "source": [
    "."
   ]
  },
  {
   "cell_type": "code",
   "execution_count": null,
   "metadata": {},
   "outputs": [],
   "source": []
  }
 ],
 "metadata": {
  "kernelspec": {
   "display_name": "OZ",
   "language": "python",
   "name": "oz"
  },
  "language_info": {
   "codemirror_mode": {
    "name": "ipython",
    "version": 3
   },
   "file_extension": ".py",
   "mimetype": "text/x-python",
   "name": "python",
   "nbconvert_exporter": "python",
   "pygments_lexer": "ipython3",
   "version": "3.8.2"
  }
 },
 "nbformat": 4,
 "nbformat_minor": 1
}
